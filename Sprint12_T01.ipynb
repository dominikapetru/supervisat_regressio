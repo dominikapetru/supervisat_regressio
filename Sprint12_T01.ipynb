{
 "cells": [
  {
   "cell_type": "markdown",
   "id": "eb85a65c-e941-4784-a589-d883635fafd9",
   "metadata": {},
   "source": [
    "# Sprint 12: Supervised learning"
   ]
  },
  {
   "cell_type": "markdown",
   "id": "828fe1bc-f03c-4cc6-af12-db95255d53eb",
   "metadata": {},
   "source": [
    "#### Imports"
   ]
  },
  {
   "cell_type": "code",
   "execution_count": 1,
   "id": "a20f31fd-f64c-42f5-87b5-dce562ee2046",
   "metadata": {},
   "outputs": [],
   "source": [
    "import numpy as np\n",
    "import pandas as pd\n",
    "import matplotlib.pyplot as plt\n",
    "import seaborn as sns\n",
    "from sklearn import preprocessing\n",
    "from sklearn.model_selection import train_test_split\n",
    "import warnings\n",
    "warnings.filterwarnings('ignore')\n",
    "from sklearn.linear_model import LinearRegression\n",
    "from sklearn.ensemble import RandomForestRegressor\n",
    "from sklearn.linear_model import LassoCV\n",
    "from sklearn.metrics import mean_absolute_error,mean_squared_error, r2_score"
   ]
  },
  {
   "cell_type": "code",
   "execution_count": 2,
   "id": "5515b697-9708-4904-b101-8b854fa36dac",
   "metadata": {},
   "outputs": [
    {
     "data": {
      "text/html": [
       "<div>\n",
       "<style scoped>\n",
       "    .dataframe tbody tr th:only-of-type {\n",
       "        vertical-align: middle;\n",
       "    }\n",
       "\n",
       "    .dataframe tbody tr th {\n",
       "        vertical-align: top;\n",
       "    }\n",
       "\n",
       "    .dataframe thead th {\n",
       "        text-align: right;\n",
       "    }\n",
       "</style>\n",
       "<table border=\"1\" class=\"dataframe\">\n",
       "  <thead>\n",
       "    <tr style=\"text-align: right;\">\n",
       "      <th></th>\n",
       "      <th>Unnamed: 0</th>\n",
       "      <th>Year</th>\n",
       "      <th>Month</th>\n",
       "      <th>DayofMonth</th>\n",
       "      <th>DayOfWeek</th>\n",
       "      <th>DepTime</th>\n",
       "      <th>CRSDepTime</th>\n",
       "      <th>ArrTime</th>\n",
       "      <th>CRSArrTime</th>\n",
       "      <th>UniqueCarrier</th>\n",
       "      <th>...</th>\n",
       "      <th>TaxiIn</th>\n",
       "      <th>TaxiOut</th>\n",
       "      <th>Cancelled</th>\n",
       "      <th>CancellationCode</th>\n",
       "      <th>Diverted</th>\n",
       "      <th>CarrierDelay</th>\n",
       "      <th>WeatherDelay</th>\n",
       "      <th>NASDelay</th>\n",
       "      <th>SecurityDelay</th>\n",
       "      <th>LateAircraftDelay</th>\n",
       "    </tr>\n",
       "  </thead>\n",
       "  <tbody>\n",
       "    <tr>\n",
       "      <th>0</th>\n",
       "      <td>0</td>\n",
       "      <td>2008</td>\n",
       "      <td>1</td>\n",
       "      <td>3</td>\n",
       "      <td>4</td>\n",
       "      <td>2003.0</td>\n",
       "      <td>1955</td>\n",
       "      <td>2211.0</td>\n",
       "      <td>2225</td>\n",
       "      <td>WN</td>\n",
       "      <td>...</td>\n",
       "      <td>4.0</td>\n",
       "      <td>8.0</td>\n",
       "      <td>0</td>\n",
       "      <td>N</td>\n",
       "      <td>0</td>\n",
       "      <td>NaN</td>\n",
       "      <td>NaN</td>\n",
       "      <td>NaN</td>\n",
       "      <td>NaN</td>\n",
       "      <td>NaN</td>\n",
       "    </tr>\n",
       "    <tr>\n",
       "      <th>1</th>\n",
       "      <td>1</td>\n",
       "      <td>2008</td>\n",
       "      <td>1</td>\n",
       "      <td>3</td>\n",
       "      <td>4</td>\n",
       "      <td>754.0</td>\n",
       "      <td>735</td>\n",
       "      <td>1002.0</td>\n",
       "      <td>1000</td>\n",
       "      <td>WN</td>\n",
       "      <td>...</td>\n",
       "      <td>5.0</td>\n",
       "      <td>10.0</td>\n",
       "      <td>0</td>\n",
       "      <td>N</td>\n",
       "      <td>0</td>\n",
       "      <td>NaN</td>\n",
       "      <td>NaN</td>\n",
       "      <td>NaN</td>\n",
       "      <td>NaN</td>\n",
       "      <td>NaN</td>\n",
       "    </tr>\n",
       "  </tbody>\n",
       "</table>\n",
       "<p>2 rows × 30 columns</p>\n",
       "</div>"
      ],
      "text/plain": [
       "   Unnamed: 0  Year  Month  DayofMonth  DayOfWeek  DepTime  CRSDepTime  \\\n",
       "0           0  2008      1           3          4   2003.0        1955   \n",
       "1           1  2008      1           3          4    754.0         735   \n",
       "\n",
       "   ArrTime  CRSArrTime UniqueCarrier  ...  TaxiIn TaxiOut  Cancelled  \\\n",
       "0   2211.0        2225            WN  ...     4.0     8.0          0   \n",
       "1   1002.0        1000            WN  ...     5.0    10.0          0   \n",
       "\n",
       "   CancellationCode  Diverted  CarrierDelay  WeatherDelay NASDelay  \\\n",
       "0                 N         0           NaN           NaN      NaN   \n",
       "1                 N         0           NaN           NaN      NaN   \n",
       "\n",
       "  SecurityDelay  LateAircraftDelay  \n",
       "0           NaN                NaN  \n",
       "1           NaN                NaN  \n",
       "\n",
       "[2 rows x 30 columns]"
      ]
     },
     "execution_count": 2,
     "metadata": {},
     "output_type": "execute_result"
    }
   ],
   "source": [
    "df = pd.read_csv(\"DelayedFlights.csv\")\n",
    "df.head(2)"
   ]
  },
  {
   "cell_type": "markdown",
   "id": "e69764a2-4a5e-4b71-803e-274cc485d06f",
   "metadata": {},
   "source": [
    "## Level 1"
   ]
  },
  {
   "cell_type": "markdown",
   "id": "cb6c1763-cb74-4a8e-b4ad-62821cf8d4e8",
   "metadata": {},
   "source": [
    "### Exercise 1"
   ]
  },
  {
   "cell_type": "markdown",
   "id": "20c95711-e5f4-4647-a7b2-1b7a68121b07",
   "metadata": {},
   "source": [
    "##### Create 3 different models of regression to predict arrival delays from dataset of airlines. How to predict arrival delay? Which regression models we can use?"
   ]
  },
  {
   "cell_type": "markdown",
   "id": "629a53d2-5d91-4645-9761-18dfc99869b6",
   "metadata": {},
   "source": [
    "I will create model to predict arrival delay for one airline and one destination.\n",
    "- First select destination to New York - code JFK\n",
    "- Second select the most frequent airline JetBlue Airways - code B6"
   ]
  },
  {
   "cell_type": "code",
   "execution_count": 3,
   "id": "4e98ab7b-47c1-414b-86c8-667c1120d026",
   "metadata": {},
   "outputs": [
    {
     "data": {
      "text/plain": [
       "count     35506\n",
       "unique       11\n",
       "top          B6\n",
       "freq      15122\n",
       "Name: UniqueCarrier, dtype: object"
      ]
     },
     "execution_count": 3,
     "metadata": {},
     "output_type": "execute_result"
    }
   ],
   "source": [
    "a = df.loc[df['Dest'] == 'JFK']\n",
    "a['UniqueCarrier'].describe()"
   ]
  },
  {
   "cell_type": "code",
   "execution_count": 4,
   "id": "0a9eedee-b1dc-47ee-a4e9-a54311bb6ea3",
   "metadata": {},
   "outputs": [
    {
     "data": {
      "text/plain": [
       "array(['JFK'], dtype=object)"
      ]
     },
     "execution_count": 4,
     "metadata": {},
     "output_type": "execute_result"
    }
   ],
   "source": [
    "a['Dest'].unique()"
   ]
  },
  {
   "cell_type": "code",
   "execution_count": 5,
   "id": "9dc65204-da14-4f32-a967-f4484d08153d",
   "metadata": {},
   "outputs": [
    {
     "data": {
      "text/plain": [
       "array(['B6'], dtype=object)"
      ]
     },
     "execution_count": 5,
     "metadata": {},
     "output_type": "execute_result"
    }
   ],
   "source": [
    "b = a.loc[df['UniqueCarrier'] == 'B6']\n",
    "b['UniqueCarrier'].unique()"
   ]
  },
  {
   "cell_type": "code",
   "execution_count": 6,
   "id": "edaedfa6-af45-43b3-ae0a-1f61e9eb4da9",
   "metadata": {},
   "outputs": [
    {
     "data": {
      "text/html": [
       "<div>\n",
       "<style scoped>\n",
       "    .dataframe tbody tr th:only-of-type {\n",
       "        vertical-align: middle;\n",
       "    }\n",
       "\n",
       "    .dataframe tbody tr th {\n",
       "        vertical-align: top;\n",
       "    }\n",
       "\n",
       "    .dataframe thead th {\n",
       "        text-align: right;\n",
       "    }\n",
       "</style>\n",
       "<table border=\"1\" class=\"dataframe\">\n",
       "  <thead>\n",
       "    <tr style=\"text-align: right;\">\n",
       "      <th></th>\n",
       "      <th>Cancelled</th>\n",
       "      <th>ArrDelay</th>\n",
       "      <th>DepDelay</th>\n",
       "      <th>Distance</th>\n",
       "      <th>CarrierDelay</th>\n",
       "      <th>WeatherDelay</th>\n",
       "      <th>NASDelay</th>\n",
       "      <th>SecurityDelay</th>\n",
       "      <th>LateAircraftDelay</th>\n",
       "      <th>Month</th>\n",
       "      <th>DayofMonth</th>\n",
       "    </tr>\n",
       "  </thead>\n",
       "  <tbody>\n",
       "    <tr>\n",
       "      <th>168228</th>\n",
       "      <td>0</td>\n",
       "      <td>-19.0</td>\n",
       "      <td>9.0</td>\n",
       "      <td>1522</td>\n",
       "      <td>NaN</td>\n",
       "      <td>NaN</td>\n",
       "      <td>NaN</td>\n",
       "      <td>NaN</td>\n",
       "      <td>NaN</td>\n",
       "      <td>1</td>\n",
       "      <td>1</td>\n",
       "    </tr>\n",
       "    <tr>\n",
       "      <th>168229</th>\n",
       "      <td>0</td>\n",
       "      <td>-6.0</td>\n",
       "      <td>13.0</td>\n",
       "      <td>766</td>\n",
       "      <td>NaN</td>\n",
       "      <td>NaN</td>\n",
       "      <td>NaN</td>\n",
       "      <td>NaN</td>\n",
       "      <td>NaN</td>\n",
       "      <td>1</td>\n",
       "      <td>1</td>\n",
       "    </tr>\n",
       "    <tr>\n",
       "      <th>168230</th>\n",
       "      <td>0</td>\n",
       "      <td>19.0</td>\n",
       "      <td>24.0</td>\n",
       "      <td>766</td>\n",
       "      <td>0.0</td>\n",
       "      <td>0.0</td>\n",
       "      <td>0.0</td>\n",
       "      <td>0.0</td>\n",
       "      <td>19.0</td>\n",
       "      <td>1</td>\n",
       "      <td>1</td>\n",
       "    </tr>\n",
       "  </tbody>\n",
       "</table>\n",
       "</div>"
      ],
      "text/plain": [
       "        Cancelled  ArrDelay  DepDelay  Distance  CarrierDelay  WeatherDelay  \\\n",
       "168228          0     -19.0       9.0      1522           NaN           NaN   \n",
       "168229          0      -6.0      13.0       766           NaN           NaN   \n",
       "168230          0      19.0      24.0       766           0.0           0.0   \n",
       "\n",
       "        NASDelay  SecurityDelay  LateAircraftDelay  Month  DayofMonth  \n",
       "168228       NaN            NaN                NaN      1           1  \n",
       "168229       NaN            NaN                NaN      1           1  \n",
       "168230       0.0            0.0               19.0      1           1  "
      ]
     },
     "execution_count": 6,
     "metadata": {},
     "output_type": "execute_result"
    }
   ],
   "source": [
    "df_flights = b[['Cancelled','ArrDelay','DepDelay','Distance','CarrierDelay',\n",
    "       'WeatherDelay', 'NASDelay', 'SecurityDelay', 'LateAircraftDelay','Month', 'DayofMonth']]\n",
    "df_flights.head(3)"
   ]
  },
  {
   "cell_type": "code",
   "execution_count": 7,
   "id": "1f132b5e-6154-4170-9394-679da352c2bc",
   "metadata": {},
   "outputs": [
    {
     "data": {
      "text/html": [
       "<div>\n",
       "<style scoped>\n",
       "    .dataframe tbody tr th:only-of-type {\n",
       "        vertical-align: middle;\n",
       "    }\n",
       "\n",
       "    .dataframe tbody tr th {\n",
       "        vertical-align: top;\n",
       "    }\n",
       "\n",
       "    .dataframe thead th {\n",
       "        text-align: right;\n",
       "    }\n",
       "</style>\n",
       "<table border=\"1\" class=\"dataframe\">\n",
       "  <thead>\n",
       "    <tr style=\"text-align: right;\">\n",
       "      <th></th>\n",
       "      <th>ArrDelay</th>\n",
       "      <th>DepDelay</th>\n",
       "      <th>Distance</th>\n",
       "      <th>CarrierDelay</th>\n",
       "      <th>WeatherDelay</th>\n",
       "      <th>NASDelay</th>\n",
       "      <th>SecurityDelay</th>\n",
       "      <th>LateAircraftDelay</th>\n",
       "      <th>Month</th>\n",
       "      <th>DayofMonth</th>\n",
       "    </tr>\n",
       "  </thead>\n",
       "  <tbody>\n",
       "    <tr>\n",
       "      <th>1921774</th>\n",
       "      <td>199.0</td>\n",
       "      <td>172.0</td>\n",
       "      <td>1005</td>\n",
       "      <td>0.0</td>\n",
       "      <td>0.0</td>\n",
       "      <td>28.0</td>\n",
       "      <td>0.0</td>\n",
       "      <td>171.0</td>\n",
       "      <td>12</td>\n",
       "      <td>31</td>\n",
       "    </tr>\n",
       "    <tr>\n",
       "      <th>1921775</th>\n",
       "      <td>71.0</td>\n",
       "      <td>86.0</td>\n",
       "      <td>1005</td>\n",
       "      <td>0.0</td>\n",
       "      <td>0.0</td>\n",
       "      <td>1.0</td>\n",
       "      <td>0.0</td>\n",
       "      <td>70.0</td>\n",
       "      <td>12</td>\n",
       "      <td>31</td>\n",
       "    </tr>\n",
       "    <tr>\n",
       "      <th>1921776</th>\n",
       "      <td>31.0</td>\n",
       "      <td>42.0</td>\n",
       "      <td>1005</td>\n",
       "      <td>0.0</td>\n",
       "      <td>0.0</td>\n",
       "      <td>18.0</td>\n",
       "      <td>0.0</td>\n",
       "      <td>13.0</td>\n",
       "      <td>12</td>\n",
       "      <td>31</td>\n",
       "    </tr>\n",
       "  </tbody>\n",
       "</table>\n",
       "</div>"
      ],
      "text/plain": [
       "         ArrDelay  DepDelay  Distance  CarrierDelay  WeatherDelay  NASDelay  \\\n",
       "1921774     199.0     172.0      1005           0.0           0.0      28.0   \n",
       "1921775      71.0      86.0      1005           0.0           0.0       1.0   \n",
       "1921776      31.0      42.0      1005           0.0           0.0      18.0   \n",
       "\n",
       "         SecurityDelay  LateAircraftDelay  Month  DayofMonth  \n",
       "1921774            0.0              171.0     12          31  \n",
       "1921775            0.0               70.0     12          31  \n",
       "1921776            0.0               13.0     12          31  "
      ]
     },
     "execution_count": 7,
     "metadata": {},
     "output_type": "execute_result"
    }
   ],
   "source": [
    "#deleting rows with cancelled flights\n",
    "df_flights = df_flights.loc[df_flights['Cancelled'] == 0]\n",
    "df_flights.drop('Cancelled',axis=1, inplace=True)\n",
    "df_flights.reset_index()\n",
    "df_flights.tail(3)"
   ]
  },
  {
   "cell_type": "code",
   "execution_count": 8,
   "id": "363ddba6-3c42-4d1b-b279-6a5d5993d543",
   "metadata": {},
   "outputs": [
    {
     "name": "stdout",
     "output_type": "stream",
     "text": [
      "121 0 0 4372 4372 4372 4372 4372 0 0\n"
     ]
    }
   ],
   "source": [
    "#Do I have complete values dataset? how many NaN values I have?\n",
    "a = df_flights['ArrDelay'].isnull().sum()\n",
    "b = df_flights['DepDelay'].isnull().sum()\n",
    "c = df_flights['Distance'].isnull().sum()\n",
    "d = df_flights['CarrierDelay'].isnull().sum()\n",
    "e = df_flights['WeatherDelay'].isnull().sum()\n",
    "f = df_flights['NASDelay'].isnull().sum()\n",
    "g = df_flights['SecurityDelay'].isnull().sum()\n",
    "h = df_flights['LateAircraftDelay'].isnull().sum()\n",
    "i = df_flights['Month'].isnull().sum()\n",
    "j = df_flights['DayofMonth'].isnull().sum()\n",
    "print(a, b, c, d, e, f, g, h, i, j)"
   ]
  },
  {
   "cell_type": "code",
   "execution_count": 9,
   "id": "8f81079a-3999-45cc-bb70-9f6fbbdedf65",
   "metadata": {},
   "outputs": [
    {
     "data": {
      "text/plain": [
       "False"
      ]
     },
     "execution_count": 9,
     "metadata": {},
     "output_type": "execute_result"
    }
   ],
   "source": [
    "#Replace NaN values with 0 and check new df\n",
    "df_flights['ArrDelay'] = df_flights['ArrDelay'].replace(np.nan, 0)\n",
    "df_flights['CarrierDelay'] = df_flights['CarrierDelay'].replace(np.nan, 0)\n",
    "df_flights['WeatherDelay'] = df_flights['WeatherDelay'].replace(np.nan, 0)\n",
    "df_flights['NASDelay'] = df_flights['NASDelay'].replace(np.nan, 0)\n",
    "df_flights['SecurityDelay'] = df_flights['SecurityDelay'].replace(np.nan, 0)\n",
    "df_flights['LateAircraftDelay'] = df_flights['LateAircraftDelay'].replace(np.nan, 0)\n",
    "df_flights.isnull().values.any()"
   ]
  },
  {
   "cell_type": "markdown",
   "id": "64d50ceb-d215-4b0f-acfc-cf71c63d7bcb",
   "metadata": {},
   "source": [
    "##### What is the relationship between arrival delay, month and day of month for flights with destination New York?"
   ]
  },
  {
   "cell_type": "code",
   "execution_count": 10,
   "id": "4c8b9ceb-eb99-4209-88b6-bed7c3f26f32",
   "metadata": {},
   "outputs": [
    {
     "data": {
      "image/png": "[encoded data removed]",
      "text/plain": [
       "<Figure size 1080x288 with 2 Axes>"
      ]
     },
     "metadata": {
      "needs_background": "light"
     },
     "output_type": "display_data"
    }
   ],
   "source": [
    "fig,axes = plt.subplots(nrows=1,ncols=2,figsize=(15,4))\n",
    "\n",
    "axes[0].plot(df_flights['NASDelay'],df_flights['ArrDelay'],'o')\n",
    "axes[0].set_xlabel(\"NAS delay\",fontsize=12)\n",
    "axes[0].set_ylabel(\"Arrival delay\",fontsize=12)\n",
    "axes[0].set_title(\"Arrival delay by of JetBlue Airlines by NAS delay\",fontsize=15)\n",
    "\n",
    "axes[1].plot(df_flights['LateAircraftDelay'],df_flights['ArrDelay'],'o')\n",
    "axes[1].set_xlabel(\"Late aircraft delay\",fontsize=12)\n",
    "axes[1].set_ylabel(\"Arrival delay\",fontsize=12)\n",
    "axes[1].set_title(\"Arrival delay by of JetBlue Airlines by late aircraft delay.\",fontsize=15)\n",
    "\n",
    "plt.tight_layout();"
   ]
  },
  {
   "cell_type": "code",
   "execution_count": 11,
   "id": "275ecb03-4dee-4524-8d30-39483d814a7a",
   "metadata": {},
   "outputs": [
    {
     "data": {
      "image/png": "[encoded data removed]",
      "text/plain": [
       "<Figure size 1080x288 with 2 Axes>"
      ]
     },
     "metadata": {
      "needs_background": "light"
     },
     "output_type": "display_data"
    }
   ],
   "source": [
    "#Correlation matrix\n",
    "fig,ax = plt.subplots(figsize=(15,4))\n",
    "corr = df_flights.corr()\n",
    "sns.set_theme(style=\"white\")\n",
    "cmap = sns.diverging_palette(230, 20, as_cmap=True)\n",
    "\n",
    "matrix = np.triu(corr)\n",
    "sns.heatmap(corr, annot=True, mask=matrix, cmap=cmap)\n",
    "plt.show()"
   ]
  },
  {
   "cell_type": "markdown",
   "id": "93a46942-d946-4394-9752-4a23e1107a48",
   "metadata": {},
   "source": [
    "Interpretation:\n",
    "- Correlation between ArrDelay and DepDelay \n",
    "- ArrDelay and NASDelay\n",
    "- ArrDelay and LateAircraftDelay\n",
    "- ArrDelay and Carrier delay"
   ]
  },
  {
   "cell_type": "markdown",
   "id": "2b5d8117-4d7c-4c73-b820-13e63374c63a",
   "metadata": {
    "tags": []
   },
   "source": [
    "#### Train and test samples"
   ]
  },
  {
   "cell_type": "code",
   "execution_count": 12,
   "id": "49b9cbeb-8437-4b27-abde-1e3ce2c69622",
   "metadata": {},
   "outputs": [
    {
     "data": {
      "text/html": [
       "<div>\n",
       "<style scoped>\n",
       "    .dataframe tbody tr th:only-of-type {\n",
       "        vertical-align: middle;\n",
       "    }\n",
       "\n",
       "    .dataframe tbody tr th {\n",
       "        vertical-align: top;\n",
       "    }\n",
       "\n",
       "    .dataframe thead th {\n",
       "        text-align: right;\n",
       "    }\n",
       "</style>\n",
       "<table border=\"1\" class=\"dataframe\">\n",
       "  <thead>\n",
       "    <tr style=\"text-align: right;\">\n",
       "      <th></th>\n",
       "      <th>ArrDelay</th>\n",
       "      <th>DepDelay</th>\n",
       "      <th>Distance</th>\n",
       "      <th>CarrierDelay</th>\n",
       "      <th>WeatherDelay</th>\n",
       "      <th>NASDelay</th>\n",
       "      <th>SecurityDelay</th>\n",
       "      <th>LateAircraftDelay</th>\n",
       "      <th>Month</th>\n",
       "      <th>DayofMonth</th>\n",
       "    </tr>\n",
       "  </thead>\n",
       "  <tbody>\n",
       "    <tr>\n",
       "      <th>1063615</th>\n",
       "      <td>1.0</td>\n",
       "      <td>20.0</td>\n",
       "      <td>1028</td>\n",
       "      <td>0.0</td>\n",
       "      <td>0.0</td>\n",
       "      <td>0.0</td>\n",
       "      <td>0.0</td>\n",
       "      <td>0.0</td>\n",
       "      <td>6</td>\n",
       "      <td>19</td>\n",
       "    </tr>\n",
       "    <tr>\n",
       "      <th>1245705</th>\n",
       "      <td>120.0</td>\n",
       "      <td>64.0</td>\n",
       "      <td>541</td>\n",
       "      <td>0.0</td>\n",
       "      <td>0.0</td>\n",
       "      <td>73.0</td>\n",
       "      <td>0.0</td>\n",
       "      <td>47.0</td>\n",
       "      <td>7</td>\n",
       "      <td>17</td>\n",
       "    </tr>\n",
       "    <tr>\n",
       "      <th>1062867</th>\n",
       "      <td>42.0</td>\n",
       "      <td>57.0</td>\n",
       "      <td>2454</td>\n",
       "      <td>6.0</td>\n",
       "      <td>0.0</td>\n",
       "      <td>0.0</td>\n",
       "      <td>0.0</td>\n",
       "      <td>36.0</td>\n",
       "      <td>6</td>\n",
       "      <td>15</td>\n",
       "    </tr>\n",
       "    <tr>\n",
       "      <th>1244884</th>\n",
       "      <td>46.0</td>\n",
       "      <td>52.0</td>\n",
       "      <td>426</td>\n",
       "      <td>4.0</td>\n",
       "      <td>0.0</td>\n",
       "      <td>0.0</td>\n",
       "      <td>0.0</td>\n",
       "      <td>42.0</td>\n",
       "      <td>7</td>\n",
       "      <td>11</td>\n",
       "    </tr>\n",
       "    <tr>\n",
       "      <th>1245528</th>\n",
       "      <td>18.0</td>\n",
       "      <td>30.0</td>\n",
       "      <td>1028</td>\n",
       "      <td>0.0</td>\n",
       "      <td>0.0</td>\n",
       "      <td>18.0</td>\n",
       "      <td>0.0</td>\n",
       "      <td>0.0</td>\n",
       "      <td>7</td>\n",
       "      <td>15</td>\n",
       "    </tr>\n",
       "  </tbody>\n",
       "</table>\n",
       "</div>"
      ],
      "text/plain": [
       "         ArrDelay  DepDelay  Distance  CarrierDelay  WeatherDelay  NASDelay  \\\n",
       "1063615       1.0      20.0      1028           0.0           0.0       0.0   \n",
       "1245705     120.0      64.0       541           0.0           0.0      73.0   \n",
       "1062867      42.0      57.0      2454           6.0           0.0       0.0   \n",
       "1244884      46.0      52.0       426           4.0           0.0       0.0   \n",
       "1245528      18.0      30.0      1028           0.0           0.0      18.0   \n",
       "\n",
       "         SecurityDelay  LateAircraftDelay  Month  DayofMonth  \n",
       "1063615            0.0                0.0      6          19  \n",
       "1245705            0.0               47.0      7          17  \n",
       "1062867            0.0               36.0      6          15  \n",
       "1244884            0.0               42.0      7          11  \n",
       "1245528            0.0                0.0      7          15  "
      ]
     },
     "execution_count": 12,
     "metadata": {},
     "output_type": "execute_result"
    }
   ],
   "source": [
    "#random sample\n",
    "df_flights_sample = df_flights.sample(n = 1000)\n",
    "df_flights_sample.head(5)"
   ]
  },
  {
   "cell_type": "code",
   "execution_count": 13,
   "id": "71a19ad2-694c-4201-a87a-ef512ba716a4",
   "metadata": {},
   "outputs": [],
   "source": [
    "X = df_flights_sample.drop('ArrDelay',axis=1)\n",
    "y = df_flights_sample['ArrDelay']\n",
    "#Train 70%, test 30%, test_size is the percentage and random_state is for initilizing random number generator\n",
    "X_train, X_test, y_train, y_test = train_test_split(X, y, test_size=0.3, random_state=42)"
   ]
  },
  {
   "cell_type": "code",
   "execution_count": 14,
   "id": "8f19dd32-d070-4b40-a97e-2806114e4494",
   "metadata": {},
   "outputs": [
    {
     "name": "stdout",
     "output_type": "stream",
     "text": [
      "(700, 9) (700,) (300, 9) (300,)\n"
     ]
    }
   ],
   "source": [
    "print(X_train.shape,y_train.shape, X_test.shape, y_test.shape)"
   ]
  },
  {
   "cell_type": "code",
   "execution_count": 15,
   "id": "ac2e818c-3796-4dba-9a02-fa2961bd9bbe",
   "metadata": {},
   "outputs": [
    {
     "data": {
      "image/png": "[encoded data removed]",
      "text/plain": [
       "<Figure size 1080x288 with 2 Axes>"
      ]
     },
     "metadata": {},
     "output_type": "display_data"
    }
   ],
   "source": [
    "#display the train and test set\n",
    "fig,axes = plt.subplots(nrows=1,ncols=2,figsize=(15,4))\n",
    "\n",
    "axes[0].plot(X_train['DepDelay'],y_train,'o')\n",
    "axes[0].set_title(\"Train sample - Arrival delay by departure delay\",fontsize=15)\n",
    "axes[0].set_xlabel(\"Departure delay\",fontsize=12)\n",
    "axes[0].set_ylabel(\"Arrival delay\",fontsize=12)\n",
    "\n",
    "axes[1].plot(X_test['DepDelay'],y_test,'o')\n",
    "axes[1].set_title(\"Test sample - Arrival delay by departure delay\",fontsize=15)\n",
    "axes[1].set_xlabel(\"Departure delay\",fontsize=12)\n",
    "axes[1].set_ylabel(\"Arrival delay\",fontsize=12)\n",
    "\n",
    "plt.tight_layout();"
   ]
  },
  {
   "cell_type": "markdown",
   "id": "8ff36f15-a22c-4568-adf3-13bb9c08fe3c",
   "metadata": {},
   "source": [
    "#### Linear regression"
   ]
  },
  {
   "cell_type": "markdown",
   "id": "d1c53bdd-b90b-4eb2-8b59-43cd35dd1fba",
   "metadata": {},
   "source": [
    "Info: https://scikit-learn.org/stable/modules/generated/sklearn.linear_model.LinearRegression.html"
   ]
  },
  {
   "cell_type": "code",
   "execution_count": 16,
   "id": "9a5c1a6b-5c03-45de-ba02-7634711ab78d",
   "metadata": {},
   "outputs": [
    {
     "name": "stdout",
     "output_type": "stream",
     "text": [
      "300\n"
     ]
    }
   ],
   "source": [
    "model1 = LinearRegression()\n",
    "model1.fit(X_train,y_train)\n",
    "test_predictions1 = model1.predict(X_test)\n",
    "print(len(test_predictions1))"
   ]
  },
  {
   "cell_type": "code",
   "execution_count": 17,
   "id": "26af24fd-b947-4151-95ed-153bae92fe08",
   "metadata": {},
   "outputs": [
    {
     "name": "stdout",
     "output_type": "stream",
     "text": [
      "r2 score model is 1.0\n"
     ]
    }
   ],
   "source": [
    "y = X_test\n",
    "f = test_predictions1\n",
    "r_sq = model1.score(y,f)\n",
    "print('r2 score model is', r_sq)"
   ]
  },
  {
   "cell_type": "markdown",
   "id": "c3297a57-c27f-44b7-9f53-3eabcb732ddd",
   "metadata": {},
   "source": [
    "Interpretation:\n",
    "- Best possible score is 1.0\n",
    "- Baseline is 0\n",
    "- Worse cases can have score negative"
   ]
  },
  {
   "cell_type": "code",
   "execution_count": 18,
   "id": "67b6c87c-fee5-49cd-8eec-734b8fb8de38",
   "metadata": {},
   "outputs": [
    {
     "data": {
      "image/png": "[encoded data removed]",
      "text/plain": [
       "<Figure size 1080x288 with 1 Axes>"
      ]
     },
     "metadata": {},
     "output_type": "display_data"
    }
   ],
   "source": [
    "#compare values from test and predict\n",
    "y1 = y_test.reset_index(drop=True)\n",
    "y2 = pd.Series(model1.predict(X_test))\n",
    "\n",
    "#for simple visualization let's take sistematic sample\n",
    "step_num = 10\n",
    "def randomNum():\n",
    "    num = np.random.randint(1, 50)\n",
    "    return num\n",
    "num = randomNum()\n",
    "\n",
    "simple_df1 = y1[num:len(y1):step_num]\n",
    "simple_df2 = y2[num:len(y2):step_num]\n",
    "\n",
    "plt.figure(figsize =(15, 4))\n",
    "\n",
    "sns.lineplot(data=simple_df1, color='#008ae6',label='original', marker='o')\n",
    "sns.lineplot(data=simple_df2, color='#e6005c',label='predicted', marker='o')\n",
    "plt.title(\"Prediction of arrival delay with Linear regression\",fontsize=15)\n",
    "plt.xlabel(\"Arrival delay\",fontsize=12)\n",
    "plt.ylabel(\"Original and predicted data\",fontsize=12)\n",
    "\n",
    "plt.show()"
   ]
  },
  {
   "cell_type": "markdown",
   "id": "d2fa9104-a9a3-4233-96dd-54787c348236",
   "metadata": {},
   "source": [
    "#### Random forest regression"
   ]
  },
  {
   "cell_type": "markdown",
   "id": "385356be-fe98-4219-876c-a8c536e9e036",
   "metadata": {},
   "source": [
    "Info: https://scikit-learn.org/stable/modules/generated/sklearn.ensemble.RandomForestRegressor.html"
   ]
  },
  {
   "cell_type": "code",
   "execution_count": 102,
   "id": "d9089d5f-6a76-44aa-8413-4f654cd7050d",
   "metadata": {},
   "outputs": [
    {
     "name": "stdout",
     "output_type": "stream",
     "text": [
      "Average baseline error:  16.04 minutes.\n"
     ]
    }
   ],
   "source": [
    "#baseline prediction error\n",
    "feature_list = list(X_test.columns)\n",
    "baseline_preds = X_test['DepDelay']\n",
    "\n",
    "baseline_errors = abs(baseline_preds - y_test)\n",
    "print('Average baseline error: ', round(np.mean(baseline_errors), 2),'minutes.')"
   ]
  },
  {
   "cell_type": "code",
   "execution_count": 103,
   "id": "99dc68bb-6dc4-4526-b35a-435093891381",
   "metadata": {},
   "outputs": [],
   "source": [
    "model2 = RandomForestRegressor(n_estimators = 10, max_depth=10, random_state = 42)\n",
    "model2.fit(X_train, y_train);"
   ]
  },
  {
   "cell_type": "code",
   "execution_count": 104,
   "id": "c2e19b50-a528-40aa-b613-35f3d84e5389",
   "metadata": {},
   "outputs": [
    {
     "name": "stdout",
     "output_type": "stream",
     "text": [
      "Mean Absolute Error: 9.42 minutes.\n"
     ]
    }
   ],
   "source": [
    "test_predictions2 = model2.predict(X_test)\n",
    "errors = abs(test_predictions2 - y_test)\n",
    "print('Mean Absolute Error:', round(np.mean(errors), 2), 'minutes.')"
   ]
  },
  {
   "cell_type": "markdown",
   "id": "98019230-df39-4d4a-b5e4-639c42d7e7fb",
   "metadata": {},
   "source": [
    "Interpretation:\n",
    "- The model is quite good based on the calculated error"
   ]
  },
  {
   "cell_type": "code",
   "execution_count": 105,
   "id": "acca0619-33ad-4037-a88f-b5e7bf3919dd",
   "metadata": {},
   "outputs": [
    {
     "data": {
      "image/png": "[encoded data removed]",
      "text/plain": [
       "<Figure size 1080x288 with 1 Axes>"
      ]
     },
     "metadata": {
      "needs_background": "light"
     },
     "output_type": "display_data"
    }
   ],
   "source": [
    "#compare values from test and predict\n",
    "y1 = y_test.reset_index(drop=True)\n",
    "y2 = pd.Series(model2.predict(X_test))\n",
    "\n",
    "#for simple visualization let's take sistematic sample\n",
    "step_num = 10\n",
    "def randomNum():\n",
    "    num = np.random.randint(1, 50)\n",
    "    return num\n",
    "num = randomNum()\n",
    "\n",
    "simple_df1 = y1[num:len(y1):step_num]\n",
    "simple_df2 = y2[num:len(y2):step_num]\n",
    "\n",
    "plt.figure(figsize =(15, 4))\n",
    "\n",
    "sns.lineplot(data=simple_df1, color='#008ae6',label='original', marker='o')\n",
    "sns.lineplot(data=simple_df2, color='#e6005c',label='predicted', marker='o')\n",
    "plt.title(\"Prediction of arrival delay with Random Forest regression\",fontsize=15)\n",
    "plt.xlabel(\"Arrival delay\",fontsize=12)\n",
    "plt.ylabel(\"Original and predicted data\",fontsize=12)\n",
    "\n",
    "plt.show()"
   ]
  },
  {
   "cell_type": "markdown",
   "id": "37d2d887-a025-4d88-9e27-77de3ea559e8",
   "metadata": {},
   "source": [
    "#### Lasso regression"
   ]
  },
  {
   "cell_type": "markdown",
   "id": "45ae68a6-580d-426b-bc2a-c9f57981c42f",
   "metadata": {},
   "source": [
    "Info: https://scikit-learn.org/stable/modules/generated/sklearn.linear_model.LassoCV.html"
   ]
  },
  {
   "cell_type": "code",
   "execution_count": 106,
   "id": "bfc65a7b-16d7-475c-aa05-6b43581bb367",
   "metadata": {},
   "outputs": [
    {
     "data": {
      "text/plain": [
       "LassoCV(fit_intercept=False, max_iter=10, n_alphas=10, random_state=42)"
      ]
     },
     "execution_count": 106,
     "metadata": {},
     "output_type": "execute_result"
    }
   ],
   "source": [
    "model3 = LassoCV(n_alphas = 10, fit_intercept=False, max_iter=10,random_state = 42)\n",
    "model3.fit(X_train, y_train)"
   ]
  },
  {
   "cell_type": "code",
   "execution_count": 107,
   "id": "6f64b2b9-b796-4e2f-9266-81e50ecf5f9c",
   "metadata": {},
   "outputs": [
    {
     "name": "stdout",
     "output_type": "stream",
     "text": [
      "Mean Absolute Error: 11.97 minutes.\n"
     ]
    }
   ],
   "source": [
    "test_predictions3 = model3.predict(X_test)\n",
    "errors = abs(test_predictions3 - y_test)\n",
    "print('Mean Absolute Error:', round(np.mean(errors), 2), 'minutes.')"
   ]
  },
  {
   "cell_type": "code",
   "execution_count": 108,
   "id": "bd93ddc0-7a99-4e9d-97a4-5cb06a2e082a",
   "metadata": {},
   "outputs": [
    {
     "data": {
      "image/png": "[encoded data removed]",
      "text/plain": [
       "<Figure size 1080x288 with 1 Axes>"
      ]
     },
     "metadata": {
      "needs_background": "light"
     },
     "output_type": "display_data"
    }
   ],
   "source": [
    "#compare values from test and predict\n",
    "y1 = y_test.reset_index(drop=True)\n",
    "y2 = pd.Series(model3.predict(X_test))\n",
    "\n",
    "#for simple visualization let's take sistematic sample\n",
    "step_num = 10\n",
    "def randomNum():\n",
    "    num = np.random.randint(1, 50)\n",
    "    return num\n",
    "num = randomNum()\n",
    "\n",
    "simple_df1 = y1[num:len(y1):step_num]\n",
    "simple_df2 = y2[num:len(y2):step_num]\n",
    "\n",
    "plt.figure(figsize =(15, 4))\n",
    "\n",
    "sns.lineplot(data=simple_df1, color='#008ae6',label='original', marker='o')\n",
    "sns.lineplot(data=simple_df2, color='#e6005c',label='predicted', marker='o')\n",
    "plt.title(\"Prediction of arrival delay with Lasso regression\",fontsize=15)\n",
    "plt.xlabel(\"Arrival delay\",fontsize=12)\n",
    "plt.ylabel(\"Original and predicted data\",fontsize=12)\n",
    "\n",
    "plt.show()"
   ]
  },
  {
   "cell_type": "markdown",
   "id": "833d2d72-95ca-49df-af2e-1ac38a2d2d12",
   "metadata": {},
   "source": [
    "#### Polynomial regression"
   ]
  },
  {
   "cell_type": "markdown",
   "id": "11c292d5-cb93-4bab-9679-ab6ac35c30c9",
   "metadata": {},
   "source": [
    "Info: https://towardsdatascience.com/polynomial-regression-bbe8b9d97491"
   ]
  },
  {
   "cell_type": "code",
   "execution_count": 26,
   "id": "98b50c6d-ab17-414e-aae3-69c8913ced64",
   "metadata": {
    "tags": []
   },
   "outputs": [
    {
     "data": {
      "text/plain": [
       "LinearRegression()"
      ]
     },
     "execution_count": 26,
     "metadata": {},
     "output_type": "execute_result"
    }
   ],
   "source": [
    "#fitting Polynomial Regression to the dataset\n",
    "from sklearn.preprocessing import PolynomialFeatures\n",
    "polynomial_features = PolynomialFeatures(degree=2)\n",
    "X_poly = polynomial_features.fit_transform(X_train)\n",
    "\n",
    "polynomial_features.fit(X_poly, y_train)\n",
    "model4 = LinearRegression()\n",
    "model4.fit(X_poly, y_train)"
   ]
  },
  {
   "cell_type": "code",
   "execution_count": 38,
   "id": "302928f6-529f-4703-b56e-bc3294d41a5f",
   "metadata": {},
   "outputs": [
    {
     "name": "stdout",
     "output_type": "stream",
     "text": [
      "0.9968455897223958\n"
     ]
    }
   ],
   "source": [
    "test_predictions4 = model4.predict(X_poly)\n",
    "score4 = model4.score(X_poly,y_train)\n",
    "print(score4)"
   ]
  },
  {
   "cell_type": "markdown",
   "id": "584ba325-4e74-40e8-8b80-9b258b9b57ef",
   "metadata": {},
   "source": [
    "#### Decision Tree regression"
   ]
  },
  {
   "cell_type": "markdown",
   "id": "7d818743-77d3-4015-b01c-b73898858bf2",
   "metadata": {},
   "source": [
    "Info: https://www.geeksforgeeks.org/python-decision-tree-regression-using-sklearn/"
   ]
  },
  {
   "cell_type": "code",
   "execution_count": 47,
   "id": "5c92fa31-c206-42fa-a715-77449a508245",
   "metadata": {
    "tags": []
   },
   "outputs": [
    {
     "data": {
      "text/plain": [
       "DecisionTreeRegressor(random_state=0)"
      ]
     },
     "execution_count": 47,
     "metadata": {},
     "output_type": "execute_result"
    }
   ],
   "source": [
    "#fitting Decision Tree Regression to the dataset\n",
    "from sklearn.tree import DecisionTreeRegressor\n",
    "model5 = DecisionTreeRegressor(random_state = 0) \n",
    "model5.fit(X_train, y_train)"
   ]
  },
  {
   "cell_type": "code",
   "execution_count": 83,
   "id": "023bb9ae-13b2-476a-9d2a-74bc1b0159c4",
   "metadata": {},
   "outputs": [
    {
     "name": "stdout",
     "output_type": "stream",
     "text": [
      "1.0 700\n"
     ]
    }
   ],
   "source": [
    "test_predictions5 = model5.predict(X_train)\n",
    "score5 = model5.score(X_train,y_train)\n",
    "size5 = test_predictions5.size\n",
    "print(score5,size5)"
   ]
  },
  {
   "cell_type": "markdown",
   "id": "28fc6783-996b-436d-8c60-e740a17e0298",
   "metadata": {},
   "source": [
    "#### Neural networks"
   ]
  },
  {
   "cell_type": "markdown",
   "id": "ba5b6550-229f-4d10-9b01-5c829db3696a",
   "metadata": {},
   "source": [
    "Info: https://thinkingneuron.com/using-artificial-neural-networks-for-regression-in-python/"
   ]
  },
  {
   "cell_type": "code",
   "execution_count": 72,
   "id": "d663f877-7a68-4bb0-9e0c-6224f244c4b6",
   "metadata": {},
   "outputs": [
    {
     "name": "stdout",
     "output_type": "stream",
     "text": [
      "Epoch 1/30\n",
      "14/14 [==============================] - 0s 756us/step - loss: 545288.5000\n",
      "Epoch 2/30\n",
      "14/14 [==============================] - 0s 686us/step - loss: 516053.9062\n",
      "Epoch 3/30\n",
      "14/14 [==============================] - 0s 817us/step - loss: 487622.0938\n",
      "Epoch 4/30\n",
      "14/14 [==============================] - 0s 696us/step - loss: 460519.7812\n",
      "Epoch 5/30\n",
      "14/14 [==============================] - 0s 862us/step - loss: 434481.8438\n",
      "Epoch 6/30\n",
      "14/14 [==============================] - 0s 791us/step - loss: 410181.8438\n",
      "Epoch 7/30\n",
      "14/14 [==============================] - 0s 892us/step - loss: 386268.4375\n",
      "Epoch 8/30\n",
      "14/14 [==============================] - 0s 682us/step - loss: 363945.0312\n",
      "Epoch 9/30\n",
      "14/14 [==============================] - 0s 704us/step - loss: 342989.5000\n",
      "Epoch 10/30\n",
      "14/14 [==============================] - 0s 918us/step - loss: 322785.0000\n",
      "Epoch 11/30\n",
      "14/14 [==============================] - 0s 691us/step - loss: 303471.9688\n",
      "Epoch 12/30\n",
      "14/14 [==============================] - 0s 732us/step - loss: 285385.7500\n",
      "Epoch 13/30\n",
      "14/14 [==============================] - 0s 757us/step - loss: 267914.3125\n",
      "Epoch 14/30\n",
      "14/14 [==============================] - 0s 724us/step - loss: 251760.6406\n",
      "Epoch 15/30\n",
      "14/14 [==============================] - 0s 952us/step - loss: 236613.3281\n",
      "Epoch 16/30\n",
      "14/14 [==============================] - 0s 680us/step - loss: 221909.4219\n",
      "Epoch 17/30\n",
      "14/14 [==============================] - 0s 821us/step - loss: 208391.5000\n",
      "Epoch 18/30\n",
      "14/14 [==============================] - 0s 751us/step - loss: 195092.4375\n",
      "Epoch 19/30\n",
      "14/14 [==============================] - 0s 644us/step - loss: 183070.6250\n",
      "Epoch 20/30\n",
      "14/14 [==============================] - 0s 761us/step - loss: 171727.1250\n",
      "Epoch 21/30\n",
      "14/14 [==============================] - 0s 843us/step - loss: 160829.3906\n",
      "Epoch 22/30\n",
      "14/14 [==============================] - 0s 693us/step - loss: 150766.5312\n",
      "Epoch 23/30\n",
      "14/14 [==============================] - 0s 853us/step - loss: 141211.6406\n",
      "Epoch 24/30\n",
      "14/14 [==============================] - 0s 873us/step - loss: 132298.7500\n",
      "Epoch 25/30\n",
      "14/14 [==============================] - 0s 696us/step - loss: 124106.1562\n",
      "Epoch 26/30\n",
      "14/14 [==============================] - 0s 762us/step - loss: 116152.9609\n",
      "Epoch 27/30\n",
      "14/14 [==============================] - 0s 859us/step - loss: 108892.8359\n",
      "Epoch 28/30\n",
      "14/14 [==============================] - 0s 763us/step - loss: 102143.0312\n",
      "Epoch 29/30\n",
      "14/14 [==============================] - 0s 711us/step - loss: 95665.8984\n",
      "Epoch 30/30\n",
      "14/14 [==============================] - 0s 1ms/step - loss: 89687.0391\n"
     ]
    },
    {
     "data": {
      "text/plain": [
       "<keras.callbacks.History at 0x1307ffc40>"
      ]
     },
     "execution_count": 72,
     "metadata": {},
     "output_type": "execute_result"
    }
   ],
   "source": [
    "import tensorflow as tf\n",
    "\n",
    "input_size=2\n",
    "output_size=1\n",
    "model6 = tf.keras.Sequential([tf.keras.layers.Dense(output_size)])\n",
    "model6.compile(loss='mean_squared_error', optimizer='adam')\n",
    "model6.fit(X_train, y_train, batch_size = 50, epochs = 30, verbose=1)"
   ]
  },
  {
   "cell_type": "code",
   "execution_count": 76,
   "id": "feea2d7d-6d50-49fe-8391-57f5848dca85",
   "metadata": {},
   "outputs": [
    {
     "data": {
      "text/plain": [
       "array([[ 27.885487],\n",
       "       [ 12.337156],\n",
       "       [332.9933  ],\n",
       "       [208.65257 ],\n",
       "       [144.39182 ],\n",
       "       [ 33.379925],\n",
       "       [ 28.65989 ],\n",
       "       [358.4983  ],\n",
       "       [-40.485878],\n",
       "       [230.48866 ]], dtype=float32)"
      ]
     },
     "execution_count": 76,
     "metadata": {},
     "output_type": "execute_result"
    }
   ],
   "source": [
    "test_predictions6 = model6.predict(X_train)\n",
    "test_predictions6[:10]"
   ]
  },
  {
   "cell_type": "code",
   "execution_count": 81,
   "id": "a4646256-f520-4976-b249-81110a21e96a",
   "metadata": {},
   "outputs": [
    {
     "data": {
      "text/plain": [
       "700"
      ]
     },
     "execution_count": 81,
     "metadata": {},
     "output_type": "execute_result"
    }
   ],
   "source": [
    "test_predictions6.size"
   ]
  },
  {
   "cell_type": "code",
   "execution_count": 85,
   "id": "c65147b9-c359-4d69-840e-b7421a5023ed",
   "metadata": {},
   "outputs": [
    {
     "name": "stdout",
     "output_type": "stream",
     "text": [
      "22/22 [==============================] - 0s 601us/step - loss: 86696.6797\n",
      "86696.6796875\n"
     ]
    }
   ],
   "source": [
    "print(model6.evaluate(X_train, y_train))"
   ]
  },
  {
   "cell_type": "markdown",
   "id": "2c918eb7-b656-4d62-a4bb-255e9f7a475c",
   "metadata": {},
   "source": [
    "### Exercise 2"
   ]
  },
  {
   "cell_type": "markdown",
   "id": "146bb0ab-42c6-4366-b42b-464099142b79",
   "metadata": {},
   "source": [
    "##### Compare MSE and R2 of these 3 models - Linear Regression, Random forest and Lasso"
   ]
  },
  {
   "cell_type": "code",
   "execution_count": 109,
   "id": "2637a6f3-27ef-4fee-ad86-edd59f3e8ff4",
   "metadata": {
    "tags": []
   },
   "outputs": [
    {
     "name": "stdout",
     "output_type": "stream",
     "text": [
      "Mean square error of linear regression is: 19.2947 and R2 score is: 0.9973\n",
      "Mean square error of random forest regression is: 300.4741 and R2 score is: 0.9579\n",
      "Mean square error of lasso regression is: 323.7244 and R2 score is: 0.9546\n"
     ]
    }
   ],
   "source": [
    "MSE1 = round(mean_squared_error(y_test,test_predictions1),4)\n",
    "R2_1 = round(r2_score(y_test,test_predictions1),4)\n",
    "\n",
    "MSE2 = round(mean_squared_error(y_test,test_predictions2),4)\n",
    "R2_2 = round(r2_score(y_test,test_predictions2),4)\n",
    "\n",
    "MSE3 = round(mean_squared_error(y_test,test_predictions3),4)\n",
    "R2_3 = round(r2_score(y_test,test_predictions3),4)\n",
    "\n",
    "print('Mean square error of linear regression is:',MSE1, 'and R2 score is:', R2_1)\n",
    "print('Mean square error of random forest regression is:',MSE2, 'and R2 score is:', R2_2)\n",
    "print('Mean square error of lasso regression is:',MSE3, 'and R2 score is:', R2_3)"
   ]
  },
  {
   "cell_type": "markdown",
   "id": "f4629956-3390-4ec7-8195-41819877b3ad",
   "metadata": {},
   "source": [
    "Interpretation:\n",
    "- Linear regression and Lasso regression algorithms would be a good option for machine learning"
   ]
  },
  {
   "cell_type": "markdown",
   "id": "47d88e2b-2f36-4fb7-ac45-eaf9bc272d9c",
   "metadata": {},
   "source": [
    "### Exercise 3"
   ]
  },
  {
   "cell_type": "markdown",
   "id": "ed93d174-f9c5-4f30-9d7d-b34853a03627",
   "metadata": {},
   "source": [
    "##### Train the models with different parameters."
   ]
  },
  {
   "cell_type": "markdown",
   "id": "2497f067-ef2e-4ecc-a9b6-6ab26177f52a",
   "metadata": {},
   "source": [
    "#### Linear regression"
   ]
  },
  {
   "cell_type": "code",
   "execution_count": 110,
   "id": "9f94e24e-8ad1-494c-a442-7ecf4cf69148",
   "metadata": {},
   "outputs": [],
   "source": [
    "#changing parameters of Linear Regression\n",
    "#model = LinearRegression() original\n",
    "model1_mod = LinearRegression(fit_intercept = False, normalize=True, positive=True)\n",
    "#fit_intercept default True, normalize default False"
   ]
  },
  {
   "cell_type": "code",
   "execution_count": 111,
   "id": "d1781d65-c728-49d4-a7a7-b26120ff368f",
   "metadata": {},
   "outputs": [
    {
     "data": {
      "text/plain": [
       "(0.9972923767549035, 0.9968284230743574)"
      ]
     },
     "execution_count": 111,
     "metadata": {},
     "output_type": "execute_result"
    }
   ],
   "source": [
    "#new scores\n",
    "model1_mod.fit(X_train, y_train)\n",
    "score_test = model1_mod.score(X_test, y_test)\n",
    "score_train = model1_mod.score(X_train, y_train)\n",
    "score_test,score_train"
   ]
  },
  {
   "cell_type": "code",
   "execution_count": 112,
   "id": "d4511cf5-9702-421d-bf0e-caf4113a21fb",
   "metadata": {},
   "outputs": [
    {
     "data": {
      "text/plain": [
       "(0.9972953459661921, 0.9968310008989788)"
      ]
     },
     "execution_count": 112,
     "metadata": {},
     "output_type": "execute_result"
    }
   ],
   "source": [
    "#old scores from the initial model\n",
    "score_test = model1.score(X_test, y_test)\n",
    "score_train = model1.score(X_train, y_train)\n",
    "score_test,score_train"
   ]
  },
  {
   "cell_type": "code",
   "execution_count": 113,
   "id": "0ac7505c-8641-453e-9d9b-c30855d0413e",
   "metadata": {},
   "outputs": [
    {
     "data": {
      "text/html": [
       "<div>\n",
       "<style scoped>\n",
       "    .dataframe tbody tr th:only-of-type {\n",
       "        vertical-align: middle;\n",
       "    }\n",
       "\n",
       "    .dataframe tbody tr th {\n",
       "        vertical-align: top;\n",
       "    }\n",
       "\n",
       "    .dataframe thead th {\n",
       "        text-align: right;\n",
       "    }\n",
       "</style>\n",
       "<table border=\"1\" class=\"dataframe\">\n",
       "  <thead>\n",
       "    <tr style=\"text-align: right;\">\n",
       "      <th></th>\n",
       "      <th>Actual</th>\n",
       "      <th>Predicted</th>\n",
       "    </tr>\n",
       "  </thead>\n",
       "  <tbody>\n",
       "    <tr>\n",
       "      <th>358576</th>\n",
       "      <td>22.0</td>\n",
       "      <td>22.306554</td>\n",
       "    </tr>\n",
       "    <tr>\n",
       "      <th>1061737</th>\n",
       "      <td>94.0</td>\n",
       "      <td>93.403672</td>\n",
       "    </tr>\n",
       "    <tr>\n",
       "      <th>556249</th>\n",
       "      <td>42.0</td>\n",
       "      <td>42.503503</td>\n",
       "    </tr>\n",
       "    <tr>\n",
       "      <th>169113</th>\n",
       "      <td>0.0</td>\n",
       "      <td>0.356184</td>\n",
       "    </tr>\n",
       "    <tr>\n",
       "      <th>1722050</th>\n",
       "      <td>-16.0</td>\n",
       "      <td>1.207466</td>\n",
       "    </tr>\n",
       "  </tbody>\n",
       "</table>\n",
       "</div>"
      ],
      "text/plain": [
       "         Actual  Predicted\n",
       "358576     22.0  22.306554\n",
       "1061737    94.0  93.403672\n",
       "556249     42.0  42.503503\n",
       "169113      0.0   0.356184\n",
       "1722050   -16.0   1.207466"
      ]
     },
     "execution_count": 113,
     "metadata": {},
     "output_type": "execute_result"
    }
   ],
   "source": [
    "test_predictions1_mod = model1_mod.predict(X_test)\n",
    "df1_mod=pd.DataFrame({'Actual':y_test, 'Predicted':test_predictions1_mod})\n",
    "df1_mod.head()"
   ]
  },
  {
   "cell_type": "markdown",
   "id": "46030d60-912d-4d76-bf65-eafa084987a4",
   "metadata": {},
   "source": [
    "Interpretation: Both models are very accurate and the change of parameters did not affect the result significantly. We could use Linear Regression without changing parameters for this particular model."
   ]
  },
  {
   "cell_type": "markdown",
   "id": "fded8090-b3cf-4d72-8c32-bee4386e6753",
   "metadata": {},
   "source": [
    "#### Random forest regression"
   ]
  },
  {
   "cell_type": "code",
   "execution_count": 114,
   "id": "c81c4d55-dd6a-4707-9e26-5061e7a277ea",
   "metadata": {},
   "outputs": [],
   "source": [
    "#changing parameters of Random forest regression\n",
    "#rf = RandomForestRegressor()original\n",
    "model2_mod = RandomForestRegressor(n_estimators = 100, max_depth=30, random_state = 42)"
   ]
  },
  {
   "cell_type": "code",
   "execution_count": 115,
   "id": "51d8e48d-5f9f-4283-bdc1-d5af2a594fc4",
   "metadata": {},
   "outputs": [
    {
     "data": {
      "text/plain": [
       "(0.9639540122555542, 0.9926243854895977)"
      ]
     },
     "execution_count": 115,
     "metadata": {},
     "output_type": "execute_result"
    }
   ],
   "source": [
    "#new scores\n",
    "model2_mod.fit(X_train, y_train)\n",
    "score_test = model2_mod.score(X_test, y_test)\n",
    "score_train = model2_mod.score(X_train, y_train)\n",
    "score_test,score_train"
   ]
  },
  {
   "cell_type": "code",
   "execution_count": 116,
   "id": "2e238a85-def7-403e-bbc9-8a963e9ec6e7",
   "metadata": {},
   "outputs": [
    {
     "data": {
      "text/plain": [
       "(0.9578806701792072, 0.9900455722501987)"
      ]
     },
     "execution_count": 116,
     "metadata": {},
     "output_type": "execute_result"
    }
   ],
   "source": [
    "#old scores from the initial model\n",
    "score_test = model2.score(X_test, y_test)\n",
    "score_train = model2.score(X_train, y_train)\n",
    "score_test,score_train"
   ]
  },
  {
   "cell_type": "code",
   "execution_count": 117,
   "id": "5e9dbd7f-274b-4bf8-950e-6db7b80116e2",
   "metadata": {},
   "outputs": [
    {
     "data": {
      "text/html": [
       "<div>\n",
       "<style scoped>\n",
       "    .dataframe tbody tr th:only-of-type {\n",
       "        vertical-align: middle;\n",
       "    }\n",
       "\n",
       "    .dataframe tbody tr th {\n",
       "        vertical-align: top;\n",
       "    }\n",
       "\n",
       "    .dataframe thead th {\n",
       "        text-align: right;\n",
       "    }\n",
       "</style>\n",
       "<table border=\"1\" class=\"dataframe\">\n",
       "  <thead>\n",
       "    <tr style=\"text-align: right;\">\n",
       "      <th></th>\n",
       "      <th>Actual</th>\n",
       "      <th>Predicted</th>\n",
       "    </tr>\n",
       "  </thead>\n",
       "  <tbody>\n",
       "    <tr>\n",
       "      <th>358576</th>\n",
       "      <td>22.0</td>\n",
       "      <td>22.306554</td>\n",
       "    </tr>\n",
       "    <tr>\n",
       "      <th>1061737</th>\n",
       "      <td>94.0</td>\n",
       "      <td>93.403672</td>\n",
       "    </tr>\n",
       "    <tr>\n",
       "      <th>556249</th>\n",
       "      <td>42.0</td>\n",
       "      <td>42.503503</td>\n",
       "    </tr>\n",
       "    <tr>\n",
       "      <th>169113</th>\n",
       "      <td>0.0</td>\n",
       "      <td>0.356184</td>\n",
       "    </tr>\n",
       "    <tr>\n",
       "      <th>1722050</th>\n",
       "      <td>-16.0</td>\n",
       "      <td>1.207466</td>\n",
       "    </tr>\n",
       "  </tbody>\n",
       "</table>\n",
       "</div>"
      ],
      "text/plain": [
       "         Actual  Predicted\n",
       "358576     22.0  22.306554\n",
       "1061737    94.0  93.403672\n",
       "556249     42.0  42.503503\n",
       "169113      0.0   0.356184\n",
       "1722050   -16.0   1.207466"
      ]
     },
     "execution_count": 117,
     "metadata": {},
     "output_type": "execute_result"
    }
   ],
   "source": [
    "test_predictions2_mod = model2_mod.predict(X_test)\n",
    "df2_mod=pd.DataFrame({'Actual':y_test, 'Predicted':test_predictions1_mod})\n",
    "df2_mod.head()"
   ]
  },
  {
   "cell_type": "markdown",
   "id": "58fd55bf-835a-45f2-b97a-ece5cb6f223f",
   "metadata": {},
   "source": [
    "Interpretation: Both models are very accurate and the change of estimators improved the performance. For some models we might use less estimators because of the computational speed is better and the result is still very good."
   ]
  },
  {
   "cell_type": "markdown",
   "id": "83214b8a-c385-48e4-a35c-ca3f0e13d201",
   "metadata": {},
   "source": [
    "#### Lasso regression"
   ]
  },
  {
   "cell_type": "code",
   "execution_count": 118,
   "id": "4d1f421e-4610-4c32-8827-2becfc24ecb5",
   "metadata": {},
   "outputs": [
    {
     "data": {
      "text/plain": [
       "LassoCV(max_iter=100, random_state=42)"
      ]
     },
     "execution_count": 118,
     "metadata": {},
     "output_type": "execute_result"
    }
   ],
   "source": [
    "#changing parameters of Lasso regression\n",
    "#default n_alphas=100, fit_intercept=True, max_iter=1000\n",
    "model3_mod = LassoCV(n_alphas = 100, fit_intercept=True, max_iter=100,random_state = 42)\n",
    "model3_mod.fit(X_train, y_train)"
   ]
  },
  {
   "cell_type": "code",
   "execution_count": 119,
   "id": "d818cc1e-3bf7-49f8-8582-0609b9610f6d",
   "metadata": {},
   "outputs": [
    {
     "data": {
      "text/plain": [
       "(0.9945681028202221, 0.9964743443594616)"
      ]
     },
     "execution_count": 119,
     "metadata": {},
     "output_type": "execute_result"
    }
   ],
   "source": [
    "#new scores\n",
    "model3_mod.fit(X_train, y_train)\n",
    "score_test = model3_mod.score(X_test, y_test)\n",
    "score_train = model3_mod.score(X_train, y_train)\n",
    "score_test,score_train"
   ]
  },
  {
   "cell_type": "code",
   "execution_count": 120,
   "id": "95485711-e811-4ef8-9353-51a4328c4813",
   "metadata": {},
   "outputs": [
    {
     "data": {
      "text/plain": [
       "(0.9546215292085382, 0.9583348320165543)"
      ]
     },
     "execution_count": 120,
     "metadata": {},
     "output_type": "execute_result"
    }
   ],
   "source": [
    "#old scores from the initial model\n",
    "score_test = model3.score(X_test, y_test)\n",
    "score_train = model3.score(X_train, y_train)\n",
    "score_test,score_train"
   ]
  },
  {
   "cell_type": "markdown",
   "id": "93c9a783-16b4-4b0a-a5ac-b0554a44aea6",
   "metadata": {},
   "source": [
    "Interpretation: The change of parameters significantly improved the model, it's good to calculate interconcept for the model and has 100 alphas along regularization path."
   ]
  },
  {
   "cell_type": "markdown",
   "id": "2484e9b9-5130-4628-a8fd-932935bbaf05",
   "metadata": {},
   "source": [
    "### Exercise 4"
   ]
  },
  {
   "cell_type": "markdown",
   "id": "7a4f1361-489d-43e7-91af-23d9cc6a222a",
   "metadata": {},
   "source": [
    "##### Compare the performance. "
   ]
  },
  {
   "cell_type": "code",
   "execution_count": 149,
   "id": "bbbd2f65-0cb4-4486-b84c-6a6e6d9c7e3b",
   "metadata": {},
   "outputs": [
    {
     "name": "stdout",
     "output_type": "stream",
     "text": [
      "0.9960684141925801 0.9562628584028351 0.9955228406023293\n"
     ]
    }
   ],
   "source": [
    "#linear regression\n",
    "score1 = model1_mod.score(X_train,y_train)\n",
    "\n",
    "#random forest\n",
    "score2 = model2_mod.score(X_train,y_train)\n",
    "\n",
    "#lasso\n",
    "score3 = model3_mod.score(X_train,y_train)\n",
    "print(score1, score2, score3)"
   ]
  },
  {
   "cell_type": "code",
   "execution_count": 150,
   "id": "f6ccb075-6604-4f41-8eb0-a624b0dd04c8",
   "metadata": {},
   "outputs": [
    {
     "data": {
      "text/html": [
       "<div>\n",
       "<style scoped>\n",
       "    .dataframe tbody tr th:only-of-type {\n",
       "        vertical-align: middle;\n",
       "    }\n",
       "\n",
       "    .dataframe tbody tr th {\n",
       "        vertical-align: top;\n",
       "    }\n",
       "\n",
       "    .dataframe thead th {\n",
       "        text-align: right;\n",
       "    }\n",
       "</style>\n",
       "<table border=\"1\" class=\"dataframe\">\n",
       "  <thead>\n",
       "    <tr style=\"text-align: right;\">\n",
       "      <th></th>\n",
       "      <th>Actual</th>\n",
       "      <th>Predicted LinReg</th>\n",
       "      <th>Predicted RandFor</th>\n",
       "      <th>Predicted Lasso</th>\n",
       "    </tr>\n",
       "  </thead>\n",
       "  <tbody>\n",
       "    <tr>\n",
       "      <th>0</th>\n",
       "      <td>259.0</td>\n",
       "      <td>259.298010</td>\n",
       "      <td>253.18</td>\n",
       "      <td>260.331152</td>\n",
       "    </tr>\n",
       "    <tr>\n",
       "      <th>1</th>\n",
       "      <td>16.0</td>\n",
       "      <td>16.798206</td>\n",
       "      <td>16.70</td>\n",
       "      <td>16.735695</td>\n",
       "    </tr>\n",
       "    <tr>\n",
       "      <th>2</th>\n",
       "      <td>-8.0</td>\n",
       "      <td>0.820690</td>\n",
       "      <td>-1.97</td>\n",
       "      <td>1.062348</td>\n",
       "    </tr>\n",
       "    <tr>\n",
       "      <th>3</th>\n",
       "      <td>24.0</td>\n",
       "      <td>24.007075</td>\n",
       "      <td>21.73</td>\n",
       "      <td>24.320156</td>\n",
       "    </tr>\n",
       "    <tr>\n",
       "      <th>4</th>\n",
       "      <td>121.0</td>\n",
       "      <td>121.775640</td>\n",
       "      <td>93.03</td>\n",
       "      <td>120.800053</td>\n",
       "    </tr>\n",
       "    <tr>\n",
       "      <th>5</th>\n",
       "      <td>28.0</td>\n",
       "      <td>28.365805</td>\n",
       "      <td>30.76</td>\n",
       "      <td>27.823005</td>\n",
       "    </tr>\n",
       "    <tr>\n",
       "      <th>6</th>\n",
       "      <td>70.0</td>\n",
       "      <td>70.228674</td>\n",
       "      <td>71.29</td>\n",
       "      <td>69.902088</td>\n",
       "    </tr>\n",
       "    <tr>\n",
       "      <th>7</th>\n",
       "      <td>71.0</td>\n",
       "      <td>71.035376</td>\n",
       "      <td>68.59</td>\n",
       "      <td>71.199632</td>\n",
       "    </tr>\n",
       "    <tr>\n",
       "      <th>8</th>\n",
       "      <td>21.0</td>\n",
       "      <td>21.332285</td>\n",
       "      <td>20.71</td>\n",
       "      <td>21.847375</td>\n",
       "    </tr>\n",
       "    <tr>\n",
       "      <th>9</th>\n",
       "      <td>26.0</td>\n",
       "      <td>26.176725</td>\n",
       "      <td>25.91</td>\n",
       "      <td>26.582046</td>\n",
       "    </tr>\n",
       "  </tbody>\n",
       "</table>\n",
       "</div>"
      ],
      "text/plain": [
       "   Actual  Predicted LinReg  Predicted RandFor  Predicted Lasso\n",
       "0   259.0        259.298010             253.18       260.331152\n",
       "1    16.0         16.798206              16.70        16.735695\n",
       "2    -8.0          0.820690              -1.97         1.062348\n",
       "3    24.0         24.007075              21.73        24.320156\n",
       "4   121.0        121.775640              93.03       120.800053\n",
       "5    28.0         28.365805              30.76        27.823005\n",
       "6    70.0         70.228674              71.29        69.902088\n",
       "7    71.0         71.035376              68.59        71.199632\n",
       "8    21.0         21.332285              20.71        21.847375\n",
       "9    26.0         26.176725              25.91        26.582046"
      ]
     },
     "execution_count": 150,
     "metadata": {},
     "output_type": "execute_result"
    }
   ],
   "source": [
    "a = y_test.reset_index(drop=True)#original values\n",
    "b = pd.Series(model1_mod.predict(X_test))\n",
    "c = pd.Series(model2_mod.predict(X_test))\n",
    "d = pd.Series(model3_mod.predict(X_test))\n",
    "df_perf1 = pd.DataFrame({'Actual':a, 'Predicted LinReg':b, 'Predicted RandFor':c, 'Predicted Lasso':d})\n",
    "df_perf1.head(10)"
   ]
  },
  {
   "cell_type": "markdown",
   "id": "2199416d-1ac0-41e6-9560-e855b5e491cd",
   "metadata": {},
   "source": [
    "Interpretation: \n",
    "- The Linear Regression algorithm based on random sample is very accurate.\n",
    "- Also Lasso Regression model has very high score and would be good for developing a machine learning model."
   ]
  },
  {
   "cell_type": "code",
   "execution_count": 163,
   "id": "ab6603b6-c24e-4f05-8fcf-8597135cc5d2",
   "metadata": {},
   "outputs": [
    {
     "data": {
      "image/png": "[encoded data removed]",
      "text/plain": [
       "<Figure size 1080x288 with 1 Axes>"
      ]
     },
     "metadata": {
      "needs_background": "light"
     },
     "output_type": "display_data"
    }
   ],
   "source": [
    "#compare values from test and predict\n",
    "#for simple visualization let's take sistematic sample\n",
    "step_num = 100\n",
    "def randomNum():\n",
    "    num = np.random.randint(1, 50)\n",
    "    return num\n",
    "num = randomNum()\n",
    "\n",
    "simple_df1 = a[num:len(a):step_num]\n",
    "simple_df2 = b[num:len(b):step_num]\n",
    "simple_df3 = c[num:len(c):step_num]\n",
    "simple_df4 = d[num:len(d):step_num]\n",
    "\n",
    "plt.figure(figsize =(15, 4))\n",
    "sns.lineplot(data=simple_df2, color='#e6005c',label='predicted Linear Regression', marker='o')\n",
    "sns.lineplot(data=simple_df3, color='#ffb3b3',label='predicted Random Forest', marker='o')\n",
    "sns.lineplot(data=simple_df4, color='#00b300',label='predicted Lasso', marker='o')\n",
    "sns.lineplot(data=simple_df1, color='#000000',label='original', marker='o')\n",
    "plt.title(\"Prediction of arrival delay\",fontsize=15)\n",
    "plt.xlabel(\"Arrival delay\",fontsize=12)\n",
    "plt.ylabel(\"Original and predicted data\",fontsize=12)\n",
    "\n",
    "plt.show()"
   ]
  },
  {
   "cell_type": "markdown",
   "id": "24ce7ec1-cf94-419a-9b61-e92c7f3a2e6b",
   "metadata": {},
   "source": [
    "## Level 2"
   ]
  },
  {
   "cell_type": "markdown",
   "id": "8d470f22-04f0-47fd-9f60-b7a42b110cee",
   "metadata": {},
   "source": [
    "### Exercise 5"
   ]
  },
  {
   "cell_type": "markdown",
   "id": "192b0d3d-4801-4973-adb3-bd7134b6ff75",
   "metadata": {},
   "source": [
    "##### Feature-engineering process to get better prediction."
   ]
  },
  {
   "cell_type": "markdown",
   "id": "014680c8-e7ec-4cf6-84a2-c701e1d54b8b",
   "metadata": {},
   "source": [
    "Feature engineering:\n",
    "- In the first part of the notebook are used processes like: dealing with NaN values, extracted columns, removing values\n",
    "- Other processes to explore: Reducing the skewness, Scaling, Dummies variables"
   ]
  },
  {
   "cell_type": "markdown",
   "id": "a393e33b-0612-4d95-8059-385ec227d189",
   "metadata": {},
   "source": [
    "#### Scaling - standardization"
   ]
  },
  {
   "cell_type": "code",
   "execution_count": 175,
   "id": "314b55e5-85d2-4f3e-bc73-3ae10b64202f",
   "metadata": {},
   "outputs": [
    {
     "data": {
      "text/html": [
       "<div>\n",
       "<style scoped>\n",
       "    .dataframe tbody tr th:only-of-type {\n",
       "        vertical-align: middle;\n",
       "    }\n",
       "\n",
       "    .dataframe tbody tr th {\n",
       "        vertical-align: top;\n",
       "    }\n",
       "\n",
       "    .dataframe thead th {\n",
       "        text-align: right;\n",
       "    }\n",
       "</style>\n",
       "<table border=\"1\" class=\"dataframe\">\n",
       "  <thead>\n",
       "    <tr style=\"text-align: right;\">\n",
       "      <th></th>\n",
       "      <th>ArrDelay</th>\n",
       "      <th>DepDelay</th>\n",
       "      <th>Distance</th>\n",
       "      <th>CarrierDelay</th>\n",
       "      <th>WeatherDelay</th>\n",
       "      <th>NASDelay</th>\n",
       "      <th>SecurityDelay</th>\n",
       "      <th>LateAircraftDelay</th>\n",
       "      <th>Month</th>\n",
       "      <th>DayofMonth</th>\n",
       "    </tr>\n",
       "  </thead>\n",
       "  <tbody>\n",
       "    <tr>\n",
       "      <th>1061763</th>\n",
       "      <td>58.0</td>\n",
       "      <td>53.0</td>\n",
       "      <td>1576</td>\n",
       "      <td>0.0</td>\n",
       "      <td>0.0</td>\n",
       "      <td>5.0</td>\n",
       "      <td>0.0</td>\n",
       "      <td>53.0</td>\n",
       "      <td>6</td>\n",
       "      <td>9</td>\n",
       "    </tr>\n",
       "    <tr>\n",
       "      <th>1516344</th>\n",
       "      <td>45.0</td>\n",
       "      <td>21.0</td>\n",
       "      <td>944</td>\n",
       "      <td>2.0</td>\n",
       "      <td>0.0</td>\n",
       "      <td>24.0</td>\n",
       "      <td>0.0</td>\n",
       "      <td>19.0</td>\n",
       "      <td>9</td>\n",
       "      <td>25</td>\n",
       "    </tr>\n",
       "    <tr>\n",
       "      <th>1407792</th>\n",
       "      <td>133.0</td>\n",
       "      <td>131.0</td>\n",
       "      <td>1626</td>\n",
       "      <td>40.0</td>\n",
       "      <td>0.0</td>\n",
       "      <td>2.0</td>\n",
       "      <td>0.0</td>\n",
       "      <td>91.0</td>\n",
       "      <td>8</td>\n",
       "      <td>7</td>\n",
       "    </tr>\n",
       "    <tr>\n",
       "      <th>168926</th>\n",
       "      <td>2.0</td>\n",
       "      <td>9.0</td>\n",
       "      <td>1069</td>\n",
       "      <td>0.0</td>\n",
       "      <td>0.0</td>\n",
       "      <td>0.0</td>\n",
       "      <td>0.0</td>\n",
       "      <td>0.0</td>\n",
       "      <td>1</td>\n",
       "      <td>3</td>\n",
       "    </tr>\n",
       "    <tr>\n",
       "      <th>866461</th>\n",
       "      <td>21.0</td>\n",
       "      <td>31.0</td>\n",
       "      <td>944</td>\n",
       "      <td>12.0</td>\n",
       "      <td>0.0</td>\n",
       "      <td>0.0</td>\n",
       "      <td>0.0</td>\n",
       "      <td>9.0</td>\n",
       "      <td>5</td>\n",
       "      <td>1</td>\n",
       "    </tr>\n",
       "  </tbody>\n",
       "</table>\n",
       "</div>"
      ],
      "text/plain": [
       "         ArrDelay  DepDelay  Distance  CarrierDelay  WeatherDelay  NASDelay  \\\n",
       "1061763      58.0      53.0      1576           0.0           0.0       5.0   \n",
       "1516344      45.0      21.0       944           2.0           0.0      24.0   \n",
       "1407792     133.0     131.0      1626          40.0           0.0       2.0   \n",
       "168926        2.0       9.0      1069           0.0           0.0       0.0   \n",
       "866461       21.0      31.0       944          12.0           0.0       0.0   \n",
       "\n",
       "         SecurityDelay  LateAircraftDelay  Month  DayofMonth  \n",
       "1061763            0.0               53.0      6           9  \n",
       "1516344            0.0               19.0      9          25  \n",
       "1407792            0.0               91.0      8           7  \n",
       "168926             0.0                0.0      1           3  \n",
       "866461             0.0                9.0      5           1  "
      ]
     },
     "execution_count": 175,
     "metadata": {},
     "output_type": "execute_result"
    }
   ],
   "source": [
    "#random sample\n",
    "df_flights_sample2 = df_flights.sample(n = 1000)\n",
    "df_flights_sample2.head(5)"
   ]
  },
  {
   "cell_type": "code",
   "execution_count": 188,
   "id": "6112cb7c-43e9-437d-b407-7a8acf98e831",
   "metadata": {},
   "outputs": [
    {
     "data": {
      "text/html": [
       "<div>\n",
       "<style scoped>\n",
       "    .dataframe tbody tr th:only-of-type {\n",
       "        vertical-align: middle;\n",
       "    }\n",
       "\n",
       "    .dataframe tbody tr th {\n",
       "        vertical-align: top;\n",
       "    }\n",
       "\n",
       "    .dataframe thead th {\n",
       "        text-align: right;\n",
       "    }\n",
       "</style>\n",
       "<table border=\"1\" class=\"dataframe\">\n",
       "  <thead>\n",
       "    <tr style=\"text-align: right;\">\n",
       "      <th></th>\n",
       "      <th>ArrDelay</th>\n",
       "      <th>DepDelay</th>\n",
       "      <th>Distance</th>\n",
       "      <th>CarrierDelay</th>\n",
       "      <th>WeatherDelay</th>\n",
       "      <th>NASDelay</th>\n",
       "      <th>SecurityDelay</th>\n",
       "      <th>LateAircraftDelay</th>\n",
       "      <th>Month</th>\n",
       "      <th>DayofMonth</th>\n",
       "    </tr>\n",
       "  </thead>\n",
       "  <tbody>\n",
       "    <tr>\n",
       "      <th>0</th>\n",
       "      <td>0.041044</td>\n",
       "      <td>-0.041919</td>\n",
       "      <td>0.605267</td>\n",
       "      <td>-0.317411</td>\n",
       "      <td>-0.06891</td>\n",
       "      <td>-0.420162</td>\n",
       "      <td>-0.045066</td>\n",
       "      <td>0.886102</td>\n",
       "      <td>-0.081326</td>\n",
       "      <td>-0.720480</td>\n",
       "    </tr>\n",
       "    <tr>\n",
       "      <th>1</th>\n",
       "      <td>-0.151720</td>\n",
       "      <td>-0.548490</td>\n",
       "      <td>-0.203503</td>\n",
       "      <td>-0.244030</td>\n",
       "      <td>-0.06891</td>\n",
       "      <td>-0.037629</td>\n",
       "      <td>-0.045066</td>\n",
       "      <td>-0.020260</td>\n",
       "      <td>0.812368</td>\n",
       "      <td>1.066481</td>\n",
       "    </tr>\n",
       "    <tr>\n",
       "      <th>2</th>\n",
       "      <td>1.153145</td>\n",
       "      <td>1.192849</td>\n",
       "      <td>0.669252</td>\n",
       "      <td>1.150217</td>\n",
       "      <td>-0.06891</td>\n",
       "      <td>-0.480562</td>\n",
       "      <td>-0.045066</td>\n",
       "      <td>1.899094</td>\n",
       "      <td>0.514470</td>\n",
       "      <td>-0.943851</td>\n",
       "    </tr>\n",
       "    <tr>\n",
       "      <th>3</th>\n",
       "      <td>-0.789325</td>\n",
       "      <td>-0.738454</td>\n",
       "      <td>-0.043541</td>\n",
       "      <td>-0.317411</td>\n",
       "      <td>-0.06891</td>\n",
       "      <td>-0.520828</td>\n",
       "      <td>-0.045066</td>\n",
       "      <td>-0.526756</td>\n",
       "      <td>-1.570816</td>\n",
       "      <td>-1.390591</td>\n",
       "    </tr>\n",
       "    <tr>\n",
       "      <th>4</th>\n",
       "      <td>-0.507593</td>\n",
       "      <td>-0.390187</td>\n",
       "      <td>-0.203503</td>\n",
       "      <td>0.122877</td>\n",
       "      <td>-0.06891</td>\n",
       "      <td>-0.520828</td>\n",
       "      <td>-0.045066</td>\n",
       "      <td>-0.286837</td>\n",
       "      <td>-0.379224</td>\n",
       "      <td>-1.613961</td>\n",
       "    </tr>\n",
       "  </tbody>\n",
       "</table>\n",
       "</div>"
      ],
      "text/plain": [
       "   ArrDelay  DepDelay  Distance  CarrierDelay  WeatherDelay  NASDelay  \\\n",
       "0  0.041044 -0.041919  0.605267     -0.317411      -0.06891 -0.420162   \n",
       "1 -0.151720 -0.548490 -0.203503     -0.244030      -0.06891 -0.037629   \n",
       "2  1.153145  1.192849  0.669252      1.150217      -0.06891 -0.480562   \n",
       "3 -0.789325 -0.738454 -0.043541     -0.317411      -0.06891 -0.520828   \n",
       "4 -0.507593 -0.390187 -0.203503      0.122877      -0.06891 -0.520828   \n",
       "\n",
       "   SecurityDelay  LateAircraftDelay     Month  DayofMonth  \n",
       "0      -0.045066           0.886102 -0.081326   -0.720480  \n",
       "1      -0.045066          -0.020260  0.812368    1.066481  \n",
       "2      -0.045066           1.899094  0.514470   -0.943851  \n",
       "3      -0.045066          -0.526756 -1.570816   -1.390591  \n",
       "4      -0.045066          -0.286837 -0.379224   -1.613961  "
      ]
     },
     "execution_count": 188,
     "metadata": {},
     "output_type": "execute_result"
    }
   ],
   "source": [
    "#StandardScaler\n",
    "from sklearn.preprocessing import StandardScaler\n",
    "from numpy import asarray\n",
    "scaler = StandardScaler()\n",
    "data = asarray(df_flights_sample2)\n",
    "\n",
    "#Fit the data - scaling\n",
    "df_flights_sample2_std = pd.DataFrame(scaler.fit_transform(data),columns=df_flights_sample2.columns)\n",
    "df_flights_sample2_std.head(5)"
   ]
  },
  {
   "cell_type": "code",
   "execution_count": 202,
   "id": "f3d0f2a6-7ef9-4c0a-85ec-d5e2aa9fc023",
   "metadata": {},
   "outputs": [],
   "source": [
    "X = df_flights_sample2_std.drop('ArrDelay',axis=1)\n",
    "y = df_flights_sample2_std['ArrDelay']\n",
    "#Train 70%, test 30%, test_size is the percentage and random_state is for initilizing random number generator\n",
    "X_trainStd, X_testStd, y_trainStd, y_testStd = train_test_split(X, y, test_size=0.3, random_state=42)"
   ]
  },
  {
   "cell_type": "code",
   "execution_count": 203,
   "id": "8575c5bc-5b3b-46dd-bfb0-98a8e4f4151a",
   "metadata": {},
   "outputs": [],
   "source": [
    "#linear regression\n",
    "model1_std = LinearRegression(fit_intercept = False, normalize=True, positive=True)\n",
    "model1_std.fit(X_trainStd,y_trainStd)\n",
    "test_predictions1_std = model1_std.predict(X_testStd)"
   ]
  },
  {
   "cell_type": "code",
   "execution_count": 207,
   "id": "ebe2da22-ebf3-46bc-b4b2-88d9a7c9e4ad",
   "metadata": {},
   "outputs": [],
   "source": [
    "#random forest\n",
    "model2_std = RandomForestRegressor(n_estimators = 100, max_depth=30, random_state = 42)\n",
    "model2_std.fit(X_trainStd,y_trainStd)\n",
    "test_predictions2_std = model2_std.predict(X_testStd)"
   ]
  },
  {
   "cell_type": "code",
   "execution_count": 204,
   "id": "8d68e536-d3b8-4004-a99f-92a483afab6b",
   "metadata": {},
   "outputs": [],
   "source": [
    "#lasso\n",
    "model3_std = LassoCV(n_alphas = 100, fit_intercept=True, max_iter=100,random_state = 42)\n",
    "model3_std.fit(X_trainStd,y_trainStd)\n",
    "test_predictions3_std = model3_std.predict(X_testStd)"
   ]
  },
  {
   "cell_type": "code",
   "execution_count": 216,
   "id": "16579107-a8eb-4150-94b3-fc60225c7d2e",
   "metadata": {},
   "outputs": [
    {
     "name": "stdout",
     "output_type": "stream",
     "text": [
      "0.9968310008989788 0.9923194375877311\n"
     ]
    }
   ],
   "source": [
    "score1 = model1.score(X_train,y_train)\n",
    "score1_std = model1_std.score(X_trainStd,y_trainStd)\n",
    "print(score1, score1_std)"
   ]
  },
  {
   "cell_type": "code",
   "execution_count": 217,
   "id": "a3b03e36-4959-4adb-a136-885fc97ee707",
   "metadata": {},
   "outputs": [
    {
     "name": "stdout",
     "output_type": "stream",
     "text": [
      "0.9900455722501987 0.9903052393920989\n"
     ]
    }
   ],
   "source": [
    "score2 = model2.score(X_train,y_train)\n",
    "score2_std = model2_std.score(X_trainStd,y_trainStd)\n",
    "print(score2, score2_std)"
   ]
  },
  {
   "cell_type": "code",
   "execution_count": 218,
   "id": "946edf47-3dc0-43f7-b194-b560dcd1fa88",
   "metadata": {},
   "outputs": [
    {
     "name": "stdout",
     "output_type": "stream",
     "text": [
      "0.9583348320165543 0.9924382175719516\n"
     ]
    }
   ],
   "source": [
    "score3 = model3.score(X_train,y_train)\n",
    "score3_std = model3_std.score(X_trainStd,y_trainStd)\n",
    "print(score3, score3_std)"
   ]
  },
  {
   "cell_type": "markdown",
   "id": "fa2f8451-b91e-41fd-8b70-3218537325a9",
   "metadata": {},
   "source": [
    "Interpretation: \n",
    "- Model with Lasso Regression improved significatly with standardization of values.\n",
    "- Linear Regression and Random Forest Regression has very similar results."
   ]
  },
  {
   "cell_type": "markdown",
   "id": "c55fdf75-595e-4646-87c3-8e23f8edab5b",
   "metadata": {},
   "source": [
    "#### PCA"
   ]
  },
  {
   "cell_type": "code",
   "execution_count": 265,
   "id": "724126b7-d530-45d3-80b9-1d180f5c9ad9",
   "metadata": {},
   "outputs": [],
   "source": [
    "#PCA Projection from 30 to 2D\n",
    "from sklearn.decomposition import PCA\n",
    "pca_values = df_flights_sample2_std.drop('ArrDelay',axis=1)\n",
    "pca = PCA(n_components=2)\n",
    "principalComponents = pca.fit_transform(pca_values)\n",
    "principalDf = pd.DataFrame(data = principalComponents, columns = ['principal component 1', 'principal component 2'])"
   ]
  },
  {
   "cell_type": "code",
   "execution_count": 266,
   "id": "6397cdb8-cafa-41de-b1e6-02df933a7a70",
   "metadata": {},
   "outputs": [],
   "source": [
    "X = principalDf\n",
    "y = df_flights_sample2_std['ArrDelay']\n",
    "#Train 70%, test 30%, test_size is the percentage and random_state is for initilizing random number generator\n",
    "X_trainPca, X_testPca, y_trainPca, y_testPca = train_test_split(X, y, test_size=0.3, random_state=42)"
   ]
  },
  {
   "cell_type": "code",
   "execution_count": 267,
   "id": "c965d4a7-e0a4-4f7d-86dc-21a561ae906a",
   "metadata": {},
   "outputs": [],
   "source": [
    "#linear regression\n",
    "model1_pca = LinearRegression(fit_intercept = False, normalize=True, positive=True)\n",
    "model1_pca.fit(X_trainPca,y_trainPca)\n",
    "test_predictions1_pca = model1_pca.predict(X_testPca)"
   ]
  },
  {
   "cell_type": "code",
   "execution_count": 268,
   "id": "6a36c2e6-e10b-437e-8b5e-ffc08c1eefe2",
   "metadata": {},
   "outputs": [],
   "source": [
    "#random forest\n",
    "model2_pca = RandomForestRegressor(n_estimators = 100, max_depth=30, random_state = 42)\n",
    "model2_pca.fit(X_trainPca,y_trainPca)\n",
    "test_predictions2_pca = model2_pca.predict(X_testPca)"
   ]
  },
  {
   "cell_type": "code",
   "execution_count": 269,
   "id": "b3888e09-7c5d-45a7-8ac5-28987d948597",
   "metadata": {},
   "outputs": [],
   "source": [
    "#lasso\n",
    "model3_pca = LassoCV(n_alphas = 100, fit_intercept=True, max_iter=100,random_state = 42)\n",
    "model3_pca.fit(X_trainPca,y_trainPca)\n",
    "test_predictions3_pca = model3_pca.predict(X_testPca)"
   ]
  },
  {
   "cell_type": "code",
   "execution_count": 270,
   "id": "a6dd4a78-7489-4ca1-8aa8-411a01ef9cc0",
   "metadata": {},
   "outputs": [
    {
     "name": "stdout",
     "output_type": "stream",
     "text": [
      "0.9968310008989788 0.9411477926908232\n"
     ]
    }
   ],
   "source": [
    "score1 = model1.score(X_train,y_train)\n",
    "score1_pca = model1_pca.score(X_trainPca,y_trainPca)\n",
    "print(score1, score1_pca)"
   ]
  },
  {
   "cell_type": "code",
   "execution_count": 271,
   "id": "562a5cb2-c424-4574-a958-16fc41730791",
   "metadata": {},
   "outputs": [
    {
     "name": "stdout",
     "output_type": "stream",
     "text": [
      "0.9900455722501987 0.9907788189541927\n"
     ]
    }
   ],
   "source": [
    "score2 = model2.score(X_train,y_train)\n",
    "score2_pca = model2_pca.score(X_trainPca,y_trainPca)\n",
    "print(score2, score2_pca)"
   ]
  },
  {
   "cell_type": "code",
   "execution_count": 272,
   "id": "f8e1af44-3420-4ea7-99d3-525b07151595",
   "metadata": {},
   "outputs": [
    {
     "name": "stdout",
     "output_type": "stream",
     "text": [
      "0.9583348320165543 0.945177623238178\n"
     ]
    }
   ],
   "source": [
    "score3 = model3.score(X_train,y_train)\n",
    "score3_pca = model3_pca.score(X_trainPca,y_trainPca)\n",
    "print(score3, score3_pca)"
   ]
  },
  {
   "cell_type": "markdown",
   "id": "d9e43e15-651a-4ec3-9cef-2d9b23fdd991",
   "metadata": {},
   "source": [
    "Interpretation:\n",
    "- This method is making the models less accurate by simplifying the values in two components\n",
    "- Interesting thing is that this transformation is not effecting the Random Forest Regression model."
   ]
  },
  {
   "cell_type": "markdown",
   "id": "75eee07e-9a6e-4d82-ac8b-2599c1839490",
   "metadata": {},
   "source": [
    "#### Scaling - normalization"
   ]
  },
  {
   "cell_type": "code",
   "execution_count": 219,
   "id": "43cb7d66-6ca1-45fd-aa09-4139c1ac7edb",
   "metadata": {},
   "outputs": [
    {
     "data": {
      "text/html": [
       "<div>\n",
       "<style scoped>\n",
       "    .dataframe tbody tr th:only-of-type {\n",
       "        vertical-align: middle;\n",
       "    }\n",
       "\n",
       "    .dataframe tbody tr th {\n",
       "        vertical-align: top;\n",
       "    }\n",
       "\n",
       "    .dataframe thead th {\n",
       "        text-align: right;\n",
       "    }\n",
       "</style>\n",
       "<table border=\"1\" class=\"dataframe\">\n",
       "  <thead>\n",
       "    <tr style=\"text-align: right;\">\n",
       "      <th></th>\n",
       "      <th>ArrDelay</th>\n",
       "      <th>DepDelay</th>\n",
       "      <th>Distance</th>\n",
       "      <th>CarrierDelay</th>\n",
       "      <th>WeatherDelay</th>\n",
       "      <th>NASDelay</th>\n",
       "      <th>SecurityDelay</th>\n",
       "      <th>LateAircraftDelay</th>\n",
       "      <th>Month</th>\n",
       "      <th>DayofMonth</th>\n",
       "    </tr>\n",
       "  </thead>\n",
       "  <tbody>\n",
       "    <tr>\n",
       "      <th>0</th>\n",
       "      <td>0.036735</td>\n",
       "      <td>0.033568</td>\n",
       "      <td>0.998168</td>\n",
       "      <td>0.000000</td>\n",
       "      <td>0.0</td>\n",
       "      <td>0.003167</td>\n",
       "      <td>0.0</td>\n",
       "      <td>0.033568</td>\n",
       "      <td>0.003800</td>\n",
       "      <td>0.005700</td>\n",
       "    </tr>\n",
       "    <tr>\n",
       "      <th>1</th>\n",
       "      <td>0.047560</td>\n",
       "      <td>0.022195</td>\n",
       "      <td>0.997700</td>\n",
       "      <td>0.002114</td>\n",
       "      <td>0.0</td>\n",
       "      <td>0.025365</td>\n",
       "      <td>0.0</td>\n",
       "      <td>0.020081</td>\n",
       "      <td>0.009512</td>\n",
       "      <td>0.026422</td>\n",
       "    </tr>\n",
       "    <tr>\n",
       "      <th>2</th>\n",
       "      <td>0.081111</td>\n",
       "      <td>0.079891</td>\n",
       "      <td>0.991625</td>\n",
       "      <td>0.024394</td>\n",
       "      <td>0.0</td>\n",
       "      <td>0.001220</td>\n",
       "      <td>0.0</td>\n",
       "      <td>0.055497</td>\n",
       "      <td>0.004879</td>\n",
       "      <td>0.004269</td>\n",
       "    </tr>\n",
       "    <tr>\n",
       "      <th>3</th>\n",
       "      <td>0.001871</td>\n",
       "      <td>0.008419</td>\n",
       "      <td>0.999958</td>\n",
       "      <td>0.000000</td>\n",
       "      <td>0.0</td>\n",
       "      <td>0.000000</td>\n",
       "      <td>0.0</td>\n",
       "      <td>0.000000</td>\n",
       "      <td>0.000935</td>\n",
       "      <td>0.002806</td>\n",
       "    </tr>\n",
       "    <tr>\n",
       "      <th>4</th>\n",
       "      <td>0.022225</td>\n",
       "      <td>0.032809</td>\n",
       "      <td>0.999074</td>\n",
       "      <td>0.012700</td>\n",
       "      <td>0.0</td>\n",
       "      <td>0.000000</td>\n",
       "      <td>0.0</td>\n",
       "      <td>0.009525</td>\n",
       "      <td>0.005292</td>\n",
       "      <td>0.001058</td>\n",
       "    </tr>\n",
       "  </tbody>\n",
       "</table>\n",
       "</div>"
      ],
      "text/plain": [
       "   ArrDelay  DepDelay  Distance  CarrierDelay  WeatherDelay  NASDelay  \\\n",
       "0  0.036735  0.033568  0.998168      0.000000           0.0  0.003167   \n",
       "1  0.047560  0.022195  0.997700      0.002114           0.0  0.025365   \n",
       "2  0.081111  0.079891  0.991625      0.024394           0.0  0.001220   \n",
       "3  0.001871  0.008419  0.999958      0.000000           0.0  0.000000   \n",
       "4  0.022225  0.032809  0.999074      0.012700           0.0  0.000000   \n",
       "\n",
       "   SecurityDelay  LateAircraftDelay     Month  DayofMonth  \n",
       "0            0.0           0.033568  0.003800    0.005700  \n",
       "1            0.0           0.020081  0.009512    0.026422  \n",
       "2            0.0           0.055497  0.004879    0.004269  \n",
       "3            0.0           0.000000  0.000935    0.002806  \n",
       "4            0.0           0.009525  0.005292    0.001058  "
      ]
     },
     "execution_count": 219,
     "metadata": {},
     "output_type": "execute_result"
    }
   ],
   "source": [
    "#Normalize\n",
    "from sklearn import preprocessing\n",
    "data = asarray(df_flights_sample2)\n",
    "\n",
    "#Fit the data - scaling\n",
    "df_flights_sample2_nor = pd.DataFrame(preprocessing.normalize(data),columns=df_flights_sample2.columns)\n",
    "df_flights_sample2_nor.head(5)"
   ]
  },
  {
   "cell_type": "code",
   "execution_count": 221,
   "id": "112433e8-d617-4b44-9833-ec8ed60893e9",
   "metadata": {},
   "outputs": [],
   "source": [
    "X = df_flights_sample2_nor.drop('ArrDelay',axis=1)\n",
    "y = df_flights_sample2_nor['ArrDelay']\n",
    "#Train 70%, test 30%, test_size is the percentage and random_state is for initilizing random number generator\n",
    "X_trainNor, X_testNor, y_trainNor, y_testNor = train_test_split(X, y, test_size=0.3, random_state=42)"
   ]
  },
  {
   "cell_type": "code",
   "execution_count": 298,
   "id": "da0a7d91-09c0-47b3-a37a-c4ff2a9d604e",
   "metadata": {},
   "outputs": [],
   "source": [
    "#linear regression\n",
    "model1_nor = LinearRegression(fit_intercept = False, normalize=True, positive=True)\n",
    "model1_nor.fit(X_trainNor,y_trainNor)\n",
    "test_predictions1_nor = model1_nor.predict(X_testNor)"
   ]
  },
  {
   "cell_type": "code",
   "execution_count": 223,
   "id": "a261259e-55c0-4499-94b9-f86d6296f595",
   "metadata": {},
   "outputs": [],
   "source": [
    "#random forest\n",
    "model2_nor = RandomForestRegressor(n_estimators = 100, max_depth=30, random_state = 42)\n",
    "model2_nor.fit(X_trainNor,y_trainNor)\n",
    "test_predictions2_nor = model2_nor.predict(X_testNor)"
   ]
  },
  {
   "cell_type": "code",
   "execution_count": 224,
   "id": "01ef94a9-4f23-46f7-ad19-c86c059a03e0",
   "metadata": {},
   "outputs": [],
   "source": [
    "#lasso\n",
    "model3_nor = LassoCV(n_alphas = 100, fit_intercept=True, max_iter=100,random_state = 42)\n",
    "model3_nor.fit(X_trainNor,y_trainNor)\n",
    "test_predictions3_nor = model3_nor.predict(X_testNor)"
   ]
  },
  {
   "cell_type": "code",
   "execution_count": 299,
   "id": "51ecad83-b12c-476b-8b28-44edb8989ec7",
   "metadata": {},
   "outputs": [
    {
     "name": "stdout",
     "output_type": "stream",
     "text": [
      "0.9968310008989788 0.9942694953972696\n"
     ]
    }
   ],
   "source": [
    "score1 = model1.score(X_train,y_train)\n",
    "score1_nor = model1_nor.score(X_trainNor,y_trainNor)\n",
    "print(score1, score1_nor)"
   ]
  },
  {
   "cell_type": "code",
   "execution_count": 226,
   "id": "ba59ab16-0060-4808-828f-95739bb08f0e",
   "metadata": {},
   "outputs": [
    {
     "name": "stdout",
     "output_type": "stream",
     "text": [
      "0.9900455722501987 0.9979912083353898\n"
     ]
    }
   ],
   "source": [
    "score2 = model2.score(X_train,y_train)\n",
    "score2_nor = model2_nor.score(X_trainNor,y_trainNor)\n",
    "print(score2, score2_nor)"
   ]
  },
  {
   "cell_type": "code",
   "execution_count": 227,
   "id": "fa2573e3-455b-499a-9829-f624dc790db6",
   "metadata": {},
   "outputs": [
    {
     "name": "stdout",
     "output_type": "stream",
     "text": [
      "0.9583348320165543 0.9934210322746609\n"
     ]
    }
   ],
   "source": [
    "score3 = model3.score(X_train,y_train)\n",
    "score3_nor = model3_nor.score(X_trainNor,y_trainNor)\n",
    "print(score3, score3_nor)"
   ]
  },
  {
   "cell_type": "markdown",
   "id": "5d67ccb4-25a4-4f6d-adbf-169eda950619",
   "metadata": {},
   "source": [
    "Interpretation: \n",
    "- All models improved significatly with normalization of values.\n",
    "- Normalization might be the best approach beacuse the values in the original dataset are not normally distributed"
   ]
  },
  {
   "cell_type": "markdown",
   "id": "843d2d84-fb1d-4c44-b733-a8bbd643e4a6",
   "metadata": {},
   "source": [
    "## Level 3"
   ]
  },
  {
   "cell_type": "markdown",
   "id": "2474a08c-8f52-403c-97f2-5d5842583a29",
   "metadata": {},
   "source": [
    "### Exercise 6"
   ]
  },
  {
   "cell_type": "markdown",
   "id": "d988ac14-bc49-4b0d-813c-ddc1b44be14c",
   "metadata": {},
   "source": [
    "##### Prediction without departure delay variable."
   ]
  },
  {
   "cell_type": "code",
   "execution_count": 288,
   "id": "438a8237-f2d3-4eb6-93c8-69e09c85b381",
   "metadata": {},
   "outputs": [
    {
     "data": {
      "text/plain": [
       "Index(['Unnamed: 0', 'Year', 'Month', 'DayofMonth', 'DayOfWeek', 'DepTime',\n",
       "       'CRSDepTime', 'ArrTime', 'CRSArrTime', 'UniqueCarrier', 'FlightNum',\n",
       "       'TailNum', 'ActualElapsedTime', 'CRSElapsedTime', 'AirTime', 'ArrDelay',\n",
       "       'DepDelay', 'Origin', 'Dest', 'Distance', 'TaxiIn', 'TaxiOut',\n",
       "       'Cancelled', 'CancellationCode', 'Diverted', 'CarrierDelay',\n",
       "       'WeatherDelay', 'NASDelay', 'SecurityDelay', 'LateAircraftDelay'],\n",
       "      dtype='object')"
      ]
     },
     "execution_count": 288,
     "metadata": {},
     "output_type": "execute_result"
    }
   ],
   "source": [
    "#choose columns with no obvious relationship with delay\n",
    "b.columns"
   ]
  },
  {
   "cell_type": "code",
   "execution_count": 289,
   "id": "43ad4435-a163-4b23-9d76-014b459d0623",
   "metadata": {},
   "outputs": [
    {
     "data": {
      "text/html": [
       "<div>\n",
       "<style scoped>\n",
       "    .dataframe tbody tr th:only-of-type {\n",
       "        vertical-align: middle;\n",
       "    }\n",
       "\n",
       "    .dataframe tbody tr th {\n",
       "        vertical-align: top;\n",
       "    }\n",
       "\n",
       "    .dataframe thead th {\n",
       "        text-align: right;\n",
       "    }\n",
       "</style>\n",
       "<table border=\"1\" class=\"dataframe\">\n",
       "  <thead>\n",
       "    <tr style=\"text-align: right;\">\n",
       "      <th></th>\n",
       "      <th>Cancelled</th>\n",
       "      <th>ArrDelay</th>\n",
       "      <th>Distance</th>\n",
       "      <th>Month</th>\n",
       "      <th>DayofMonth</th>\n",
       "      <th>DayOfWeek</th>\n",
       "      <th>TaxiIn</th>\n",
       "      <th>TaxiOut</th>\n",
       "    </tr>\n",
       "  </thead>\n",
       "  <tbody>\n",
       "    <tr>\n",
       "      <th>168228</th>\n",
       "      <td>0</td>\n",
       "      <td>-19.0</td>\n",
       "      <td>1522</td>\n",
       "      <td>1</td>\n",
       "      <td>1</td>\n",
       "      <td>2</td>\n",
       "      <td>10.0</td>\n",
       "      <td>18.0</td>\n",
       "    </tr>\n",
       "    <tr>\n",
       "      <th>168229</th>\n",
       "      <td>0</td>\n",
       "      <td>-6.0</td>\n",
       "      <td>766</td>\n",
       "      <td>1</td>\n",
       "      <td>1</td>\n",
       "      <td>2</td>\n",
       "      <td>5.0</td>\n",
       "      <td>11.0</td>\n",
       "    </tr>\n",
       "    <tr>\n",
       "      <th>168230</th>\n",
       "      <td>0</td>\n",
       "      <td>19.0</td>\n",
       "      <td>766</td>\n",
       "      <td>1</td>\n",
       "      <td>1</td>\n",
       "      <td>2</td>\n",
       "      <td>15.0</td>\n",
       "      <td>18.0</td>\n",
       "    </tr>\n",
       "  </tbody>\n",
       "</table>\n",
       "</div>"
      ],
      "text/plain": [
       "        Cancelled  ArrDelay  Distance  Month  DayofMonth  DayOfWeek  TaxiIn  \\\n",
       "168228          0     -19.0      1522      1           1          2    10.0   \n",
       "168229          0      -6.0       766      1           1          2     5.0   \n",
       "168230          0      19.0       766      1           1          2    15.0   \n",
       "\n",
       "        TaxiOut  \n",
       "168228     18.0  \n",
       "168229     11.0  \n",
       "168230     18.0  "
      ]
     },
     "execution_count": 289,
     "metadata": {},
     "output_type": "execute_result"
    }
   ],
   "source": [
    "df_flights2 = b[['Cancelled','ArrDelay','Distance','Month', 'DayofMonth','DayOfWeek','TaxiIn','TaxiOut']]\n",
    "df_flights2.head(3)"
   ]
  },
  {
   "cell_type": "code",
   "execution_count": 290,
   "id": "e289b74e-3f03-456e-8b67-1ea182a07ddc",
   "metadata": {},
   "outputs": [
    {
     "data": {
      "text/html": [
       "<div>\n",
       "<style scoped>\n",
       "    .dataframe tbody tr th:only-of-type {\n",
       "        vertical-align: middle;\n",
       "    }\n",
       "\n",
       "    .dataframe tbody tr th {\n",
       "        vertical-align: top;\n",
       "    }\n",
       "\n",
       "    .dataframe thead th {\n",
       "        text-align: right;\n",
       "    }\n",
       "</style>\n",
       "<table border=\"1\" class=\"dataframe\">\n",
       "  <thead>\n",
       "    <tr style=\"text-align: right;\">\n",
       "      <th></th>\n",
       "      <th>ArrDelay</th>\n",
       "      <th>Distance</th>\n",
       "      <th>Month</th>\n",
       "      <th>DayofMonth</th>\n",
       "      <th>DayOfWeek</th>\n",
       "      <th>TaxiIn</th>\n",
       "      <th>TaxiOut</th>\n",
       "    </tr>\n",
       "  </thead>\n",
       "  <tbody>\n",
       "    <tr>\n",
       "      <th>1921774</th>\n",
       "      <td>199.0</td>\n",
       "      <td>1005</td>\n",
       "      <td>12</td>\n",
       "      <td>31</td>\n",
       "      <td>3</td>\n",
       "      <td>11.0</td>\n",
       "      <td>19.0</td>\n",
       "    </tr>\n",
       "    <tr>\n",
       "      <th>1921775</th>\n",
       "      <td>71.0</td>\n",
       "      <td>1005</td>\n",
       "      <td>12</td>\n",
       "      <td>31</td>\n",
       "      <td>3</td>\n",
       "      <td>8.0</td>\n",
       "      <td>12.0</td>\n",
       "    </tr>\n",
       "    <tr>\n",
       "      <th>1921776</th>\n",
       "      <td>31.0</td>\n",
       "      <td>1005</td>\n",
       "      <td>12</td>\n",
       "      <td>31</td>\n",
       "      <td>3</td>\n",
       "      <td>5.0</td>\n",
       "      <td>16.0</td>\n",
       "    </tr>\n",
       "  </tbody>\n",
       "</table>\n",
       "</div>"
      ],
      "text/plain": [
       "         ArrDelay  Distance  Month  DayofMonth  DayOfWeek  TaxiIn  TaxiOut\n",
       "1921774     199.0      1005     12          31          3    11.0     19.0\n",
       "1921775      71.0      1005     12          31          3     8.0     12.0\n",
       "1921776      31.0      1005     12          31          3     5.0     16.0"
      ]
     },
     "execution_count": 290,
     "metadata": {},
     "output_type": "execute_result"
    }
   ],
   "source": [
    "#deleting rows with cancelled flights\n",
    "df_flights2 = df_flights2.loc[df_flights2['Cancelled'] == 0]\n",
    "df_flights2.drop('Cancelled',axis=1, inplace=True)\n",
    "df_flights2.reset_index()\n",
    "df_flights2.tail(3)"
   ]
  },
  {
   "cell_type": "code",
   "execution_count": 292,
   "id": "19c02948-cad3-4602-9fd2-04d49a0a4e9a",
   "metadata": {},
   "outputs": [
    {
     "name": "stdout",
     "output_type": "stream",
     "text": [
      "121 0 0 0 0 112 0\n"
     ]
    }
   ],
   "source": [
    "#Do I have complete values dataset? how many NaN values I have?\n",
    "a = df_flights2['ArrDelay'].isnull().sum()\n",
    "b = df_flights2['Distance'].isnull().sum()\n",
    "c = df_flights2['Month'].isnull().sum()\n",
    "d = df_flights2['DayofMonth'].isnull().sum()\n",
    "e = df_flights2['DayOfWeek'].isnull().sum()\n",
    "f = df_flights2['TaxiIn'].isnull().sum()\n",
    "g = df_flights2['TaxiOut'].isnull().sum()\n",
    "print(a, b, c, d, e, f, g)"
   ]
  },
  {
   "cell_type": "code",
   "execution_count": 294,
   "id": "d0f9960f-ae45-465d-8954-8338efb5d8c1",
   "metadata": {},
   "outputs": [
    {
     "data": {
      "text/plain": [
       "False"
      ]
     },
     "execution_count": 294,
     "metadata": {},
     "output_type": "execute_result"
    }
   ],
   "source": [
    "#Replace NaN values with 0 and check new df\n",
    "df_flights2['ArrDelay'] = df_flights2['ArrDelay'].replace(np.nan, 0)\n",
    "df_flights2['TaxiIn'] = df_flights2['TaxiIn'].replace(np.nan, 0)\n",
    "df_flights2.isnull().values.any()"
   ]
  },
  {
   "cell_type": "code",
   "execution_count": 295,
   "id": "59013a8b-a178-4ac4-9ac8-192f111efa14",
   "metadata": {},
   "outputs": [
    {
     "data": {
      "text/html": [
       "<div>\n",
       "<style scoped>\n",
       "    .dataframe tbody tr th:only-of-type {\n",
       "        vertical-align: middle;\n",
       "    }\n",
       "\n",
       "    .dataframe tbody tr th {\n",
       "        vertical-align: top;\n",
       "    }\n",
       "\n",
       "    .dataframe thead th {\n",
       "        text-align: right;\n",
       "    }\n",
       "</style>\n",
       "<table border=\"1\" class=\"dataframe\">\n",
       "  <thead>\n",
       "    <tr style=\"text-align: right;\">\n",
       "      <th></th>\n",
       "      <th>ArrDelay</th>\n",
       "      <th>Distance</th>\n",
       "      <th>Month</th>\n",
       "      <th>DayofMonth</th>\n",
       "      <th>DayOfWeek</th>\n",
       "      <th>TaxiIn</th>\n",
       "      <th>TaxiOut</th>\n",
       "    </tr>\n",
       "  </thead>\n",
       "  <tbody>\n",
       "    <tr>\n",
       "      <th>1245197</th>\n",
       "      <td>77.0</td>\n",
       "      <td>2586</td>\n",
       "      <td>7</td>\n",
       "      <td>13</td>\n",
       "      <td>7</td>\n",
       "      <td>40.0</td>\n",
       "      <td>32.0</td>\n",
       "    </tr>\n",
       "    <tr>\n",
       "      <th>711864</th>\n",
       "      <td>57.0</td>\n",
       "      <td>1626</td>\n",
       "      <td>4</td>\n",
       "      <td>10</td>\n",
       "      <td>4</td>\n",
       "      <td>13.0</td>\n",
       "      <td>14.0</td>\n",
       "    </tr>\n",
       "    <tr>\n",
       "      <th>1617966</th>\n",
       "      <td>-7.0</td>\n",
       "      <td>1069</td>\n",
       "      <td>10</td>\n",
       "      <td>27</td>\n",
       "      <td>1</td>\n",
       "      <td>5.0</td>\n",
       "      <td>15.0</td>\n",
       "    </tr>\n",
       "    <tr>\n",
       "      <th>1617164</th>\n",
       "      <td>15.0</td>\n",
       "      <td>944</td>\n",
       "      <td>10</td>\n",
       "      <td>17</td>\n",
       "      <td>5</td>\n",
       "      <td>4.0</td>\n",
       "      <td>14.0</td>\n",
       "    </tr>\n",
       "    <tr>\n",
       "      <th>170773</th>\n",
       "      <td>107.0</td>\n",
       "      <td>740</td>\n",
       "      <td>1</td>\n",
       "      <td>17</td>\n",
       "      <td>4</td>\n",
       "      <td>7.0</td>\n",
       "      <td>21.0</td>\n",
       "    </tr>\n",
       "  </tbody>\n",
       "</table>\n",
       "</div>"
      ],
      "text/plain": [
       "         ArrDelay  Distance  Month  DayofMonth  DayOfWeek  TaxiIn  TaxiOut\n",
       "1245197      77.0      2586      7          13          7    40.0     32.0\n",
       "711864       57.0      1626      4          10          4    13.0     14.0\n",
       "1617966      -7.0      1069     10          27          1     5.0     15.0\n",
       "1617164      15.0       944     10          17          5     4.0     14.0\n",
       "170773      107.0       740      1          17          4     7.0     21.0"
      ]
     },
     "execution_count": 295,
     "metadata": {},
     "output_type": "execute_result"
    }
   ],
   "source": [
    "#random sample\n",
    "df_flights_sample3 = df_flights2.sample(n = 1000)\n",
    "df_flights_sample3.head(5)"
   ]
  },
  {
   "cell_type": "code",
   "execution_count": 296,
   "id": "3b6324e4-f5a6-4937-9ff0-b90f4a899586",
   "metadata": {},
   "outputs": [
    {
     "data": {
      "image/png": "[encoded data removed]",
      "text/plain": [
       "<Figure size 1080x288 with 2 Axes>"
      ]
     },
     "metadata": {
      "needs_background": "light"
     },
     "output_type": "display_data"
    }
   ],
   "source": [
    "#Correlation matrix\n",
    "fig,ax = plt.subplots(figsize=(15,4))\n",
    "corr = df_flights_sample3.corr()\n",
    "sns.set_theme(style=\"white\")\n",
    "cmap = sns.diverging_palette(230, 20, as_cmap=True)\n",
    "\n",
    "matrix = np.triu(corr)\n",
    "sns.heatmap(corr, annot=True, mask=matrix, cmap=cmap)\n",
    "plt.show()"
   ]
  },
  {
   "cell_type": "code",
   "execution_count": 300,
   "id": "de29a9d6-a9ab-4b3c-9ae6-153ab44278fd",
   "metadata": {},
   "outputs": [],
   "source": [
    "X = df_flights_sample3.drop('ArrDelay',axis=1)\n",
    "y = df_flights_sample3['ArrDelay']\n",
    "#Train 70%, test 30%, test_size is the percentage and random_state is for initilizing random number generator\n",
    "X_train2, X_test2, y_train2, y_test2 = train_test_split(X, y, test_size=0.3, random_state=42)"
   ]
  },
  {
   "cell_type": "code",
   "execution_count": 310,
   "id": "54758a5f-6863-4d67-96e6-656039930a8d",
   "metadata": {},
   "outputs": [],
   "source": [
    "#linear regression\n",
    "model1_2 = LinearRegression(fit_intercept = False, normalize=True, positive=True)\n",
    "model1_2.fit(X_train2,y_train2)\n",
    "test_predictions1_2 = model1_2.predict(X_test2)"
   ]
  },
  {
   "cell_type": "code",
   "execution_count": 311,
   "id": "471884f8-2626-417a-bed0-ee3d29e8b269",
   "metadata": {},
   "outputs": [],
   "source": [
    "#random forest\n",
    "model2_2 = RandomForestRegressor(n_estimators = 100, max_depth=30, random_state = 42)\n",
    "model2_2.fit(X_train2,y_train2)\n",
    "test_predictions2_2 = model2_2.predict(X_test2)"
   ]
  },
  {
   "cell_type": "code",
   "execution_count": 312,
   "id": "c1a0f2f8-e7a7-4e41-9a70-898888815562",
   "metadata": {},
   "outputs": [],
   "source": [
    "#lasso\n",
    "model3_2 = LassoCV(n_alphas = 100, fit_intercept=True, max_iter=100,random_state = 42)\n",
    "model3_2.fit(X_train2,y_train2)\n",
    "test_predictions3_2 = model3_2.predict(X_test2)"
   ]
  },
  {
   "cell_type": "code",
   "execution_count": 317,
   "id": "a59c9f8e-0d6a-429b-b29f-ec5b19383d3d",
   "metadata": {},
   "outputs": [],
   "source": [
    "#original values\n",
    "MAE1 = mean_absolute_error(y_test, test_predictions1)\n",
    "MSE1 = mean_squared_error(y_test, test_predictions1)\n",
    "RMSE1 = np.sqrt(MSE1)\n",
    "\n",
    "MAE2 = mean_absolute_error(y_test, test_predictions2)\n",
    "MSE2 = mean_squared_error(y_test, test_predictions2)\n",
    "RMSE2 = np.sqrt(MSE2)\n",
    "\n",
    "MAE3 = mean_absolute_error(y_test, test_predictions3)\n",
    "MSE3 = mean_squared_error(y_test, test_predictions3)\n",
    "RMSE3 = np.sqrt(MSE3)"
   ]
  },
  {
   "cell_type": "code",
   "execution_count": 318,
   "id": "cda3f8bc-6b38-43c7-a01f-a1e3a9c76140",
   "metadata": {},
   "outputs": [],
   "source": [
    "#new values\n",
    "MAE1_2 = mean_absolute_error(y_test2, test_predictions1_2)\n",
    "MSE1_2 = mean_squared_error(y_test2, test_predictions1_2)\n",
    "RMSE1_2 = np.sqrt(MSE1_2)\n",
    "\n",
    "MAE2_2 = mean_absolute_error(y_test2, test_predictions2_2)\n",
    "MSE2_2 = mean_squared_error(y_test2, test_predictions2_2)\n",
    "RMSE2_2 = np.sqrt(MSE2_2)\n",
    "\n",
    "MAE3_2 = mean_absolute_error(y_test2, test_predictions3_2)\n",
    "MSE3_2 = mean_squared_error(y_test2, test_predictions3_2)\n",
    "RMSE3_2 = np.sqrt(MSE2_2)"
   ]
  },
  {
   "cell_type": "code",
   "execution_count": 322,
   "id": "e6a4484d-5d84-4953-b3b6-6f4c92dd26f7",
   "metadata": {},
   "outputs": [
    {
     "data": {
      "text/html": [
       "<div>\n",
       "<style scoped>\n",
       "    .dataframe tbody tr th:only-of-type {\n",
       "        vertical-align: middle;\n",
       "    }\n",
       "\n",
       "    .dataframe tbody tr th {\n",
       "        vertical-align: top;\n",
       "    }\n",
       "\n",
       "    .dataframe thead th {\n",
       "        text-align: right;\n",
       "    }\n",
       "</style>\n",
       "<table border=\"1\" class=\"dataframe\">\n",
       "  <thead>\n",
       "    <tr style=\"text-align: right;\">\n",
       "      <th></th>\n",
       "      <th>First MAE</th>\n",
       "      <th>Second MAE</th>\n",
       "      <th>First MSE</th>\n",
       "      <th>Second MSE</th>\n",
       "      <th>First RMSE</th>\n",
       "      <th>Second RMSE</th>\n",
       "    </tr>\n",
       "  </thead>\n",
       "  <tbody>\n",
       "    <tr>\n",
       "      <th>0</th>\n",
       "      <td>2.260870</td>\n",
       "      <td>44.194967</td>\n",
       "      <td>19.294670</td>\n",
       "      <td>4334.974576</td>\n",
       "      <td>4.392570</td>\n",
       "      <td>65.840524</td>\n",
       "    </tr>\n",
       "    <tr>\n",
       "      <th>1</th>\n",
       "      <td>9.420243</td>\n",
       "      <td>48.371100</td>\n",
       "      <td>300.474137</td>\n",
       "      <td>4811.343808</td>\n",
       "      <td>17.334190</td>\n",
       "      <td>69.363851</td>\n",
       "    </tr>\n",
       "    <tr>\n",
       "      <th>2</th>\n",
       "      <td>11.967662</td>\n",
       "      <td>44.407854</td>\n",
       "      <td>323.724450</td>\n",
       "      <td>4259.408096</td>\n",
       "      <td>17.992344</td>\n",
       "      <td>69.363851</td>\n",
       "    </tr>\n",
       "  </tbody>\n",
       "</table>\n",
       "</div>"
      ],
      "text/plain": [
       "   First MAE  Second MAE   First MSE   Second MSE  First RMSE  Second RMSE\n",
       "0   2.260870   44.194967   19.294670  4334.974576    4.392570    65.840524\n",
       "1   9.420243   48.371100  300.474137  4811.343808   17.334190    69.363851\n",
       "2  11.967662   44.407854  323.724450  4259.408096   17.992344    69.363851"
      ]
     },
     "execution_count": 322,
     "metadata": {},
     "output_type": "execute_result"
    }
   ],
   "source": [
    "df_summary = pd.DataFrame({'First MAE':[MAE1,MAE2,MAE3], 'Second MAE':[MAE1_2,MAE2_2,MAE3_2],\n",
    "                           'First MSE':[MSE1,MSE2,MSE3], 'Second MSE':[MSE1_2,MSE2_2,MSE3_2],\n",
    "                           'First RMSE':[RMSE1,RMSE2,RMSE3], 'Second RMSE':[RMSE1_2,RMSE2_2,RMSE3_2]})\n",
    "df_summary"
   ]
  },
  {
   "cell_type": "markdown",
   "id": "5c8be9cc-1b1d-4780-8c9e-84103ce96a73",
   "metadata": {},
   "source": [
    "Interpretation:\n",
    "- The good results from the first test are conditioned by values directly related to Arrival Delay, because in the second test the results are much more worse.\n",
    "- If we eliminate the values correlated to arrival delay we can get more real life scenario.\n",
    "- With the second model we could work further on applying some feature engineering methods to improve the accuracy."
   ]
  },
  {
   "cell_type": "markdown",
   "id": "fdab288f-d95b-4af4-bd3c-cd46f992e913",
   "metadata": {},
   "source": [
    "#### Notes\n",
    "* Linear regression\n",
    "    - https://realpython.com/linear-regression-in-python/\n",
    "* How to visualize regression\n",
    "    - https://seaborn.pydata.org/tutorial/regression.html\n",
    "* Advanced linear regression with Statsmodels\n",
    "    - https://towardsdatascience.com/simple-and-multiple-linear-regression-in-python-c928425168f9\n",
    "* How to evaluate the model\n",
    "    - https://towardsdatascience.com/what-are-the-best-metrics-to-evaluate-your-regression-model-418ca481755b\n",
    "* Decision tree regression\n",
    "    - https://medium.com/pursuitnotes/decision-tree-regression-in-6-steps-with-python-1a1c5aa2ee16\n",
    "    - https://towardsdatascience.com/machine-learning-basics-decision-tree-regression-1d73ea003fda\n",
    "* Random forest\n",
    "    - https://towardsdatascience.com/random-forest-in-python-24d0893d51c0\n",
    "* Neural networks classification or regression model\n",
    "    - https://www.pluralsight.com/guides/machine-learning-neural-networks-scikit-learn\n",
    "    - https://scikit-learn.org/stable/modules/generated/sklearn.neural_network.MLPRegressor.html\n",
    "    - https://bit.ly/2ZCHG8S\n",
    "* More regression algorithms\n",
    "    - https://medium.com/analytics-vidhya/5-regression-algorithms-you-need-to-know-theory-implementation-37993382122d\n",
    "* Freezing code\n",
    "    - https://docs.python-guide.org/shipping/freezing/"
   ]
  }
 ],
 "metadata": {
  "kernelspec": {
   "display_name": "Python 3",
   "language": "python",
   "name": "python3"
  },
  "language_info": {
   "codemirror_mode": {
    "name": "ipython",
    "version": 3
   },
   "file_extension": ".py",
   "mimetype": "text/x-python",
   "name": "python",
   "nbconvert_exporter": "python",
   "pygments_lexer": "ipython3",
   "version": "3.8.8"
  }
 },
 "nbformat": 4,
 "nbformat_minor": 5
}
